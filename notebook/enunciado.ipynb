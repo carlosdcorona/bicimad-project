{
 "cells": [
  {
   "cell_type": "markdown",
   "metadata": {
    "id": "ju_OpkzM_aMb"
   },
   "source": [
    "\n",
    "MÁSTER BIG DATA & DATA ENGINEERING\n",
    "\n",
    "Programación avanzada en Python\n",
    "\n",
    "Autores: Luis Llana Díaz & Yolanda García Ruiz\n",
    "\n"
   ]
  },
  {
   "cell_type": "markdown",
   "metadata": {
    "id": "lv6DO-LM_aMn"
   },
   "source": [
    "# Trabajo final"
   ]
  },
  {
   "cell_type": "markdown",
   "metadata": {
    "id": "oflRIdDz_aMp"
   },
   "source": [
    "## Nota Preliminar\n",
    "\n",
    "Antes de desarrollar el proyecto, es aconsejable leer el enunciado completamente, incluyendo las instrucciones de entrega y otros consejos que se  recogen al final de este enunciado.\n",
    "En este enunciado se pueden producir cambios durante su desarrollo por distintos motivos: porque se descubre una situación anómala que no ha sido prevista al preparar el enunciado, porque algún estudiante encuentre un error o ambigüedad en la descripción o en los datos de partida o por cualquier otra causa. Esto ocurre también en cualquier proyecto real, así que tomárselo con el mejor talante y aprender también de estas eventuales contingencias. Se procurará informar debidamente del mejor modo posible cuando esto se produzca.\n"
   ]
  },
  {
   "cell_type": "markdown",
   "metadata": {
    "id": "ASxqaXhcRt7m"
   },
   "source": [
    "## Introducción\n",
    "\n",
    "En el portal de datos abiertos de la EMT de Madrid se puede encontrar abundante información sobre transporte y movilidad de la ciudad. En particular los datos relativos a la utilización del servicio de bicicletas eléctricas del ayuntamiento de Madrid.\n",
    "La dirección del portal mencionado es la siguiente:\n",
    "\n",
    "https://opendata.emtmadrid.es/Home\n",
    "\n",
    "y el enlace donde se encuentran los datos relativos a BiciMAD es el siguiente:\n",
    "\n",
    "https://opendata.emtmadrid.es/Datos-estaticos/Datos-generales-(1)\n",
    "\n",
    "En esta página podemos encontrar los datos de uso de BiciMAD por meses desde abril de 2019 hasta el mes Febrero de 2023. Se trata de un conjunto de URLs a ficheros comprimidos ZIP, donde una vez descomprimidos, podemos encontrar un fichero en formato `csv`.\n",
    "En esta práctica __solo nos va a interesar los datos de uso desde junio el 2021__. Son ficheros con nombre:\n",
    "\n",
    "`\n",
    "trips_YY_MM_monthName.csv\n",
    "`\n",
    "\n",
    "donde `YY` representa el año, `MM` representa el mes y `monthName` representa el nombre del mes en inglés.\n",
    "\n",
    "Los datos del mes 10 del año 2021 está mal generado por la EMT, por lo que se pide que no se use ese fichero.\n",
    "\n",
    "### Metadatos\n",
    "\n",
    "En cada uno de los ficheros `csv` podemos encontrar los siguientes datos:\n",
    "\n",
    "* `date` (Fecha): La fecha en la que tuvo lugar el viaje.\n",
    "* `idbike` (ID de Bicicleta): El identificador único de la bicicleta utilizada para el viaje.\n",
    "* `fleet` (Flota): La flota a la que pertenece la bicicleta utilizada.\n",
    "* `trip_minutes` (Duración del Viaje en Minutos): La duración del viaje en minutos.\n",
    "* `geolocation_unlock` (Geolocalización de Desbloqueo): Las coordenadas geográficas del lugar de inicio del viaje.\n",
    "* `address_unlock` (Dirección de Desbloqueo): La dirección postal en la que se desbloqueó la bicicleta.\n",
    "* `unlock_date` (Fecha y Hora de Desbloqueo): La fecha y hora exactas en las que comenzó el viaje.\n",
    "* `locktype` (Tipo de Bloqueo): El estado de la bicicleta antes del viaje. Puede estar anclada en una estación o simplemente bloqueada en cualquier lugar libremente.\n",
    "* `unlocktype` (Tipo de Desbloqueo): El estado de la bicicleta después del viaje.\n",
    "* `geolocation_lock` (Geolocalización de Bloqueo): Las coordenadas geográficas del lugar final del viaje.\n",
    "* `address_lock` (Dirección de Bloqueo): La dirección postal en la que se bloqueó la bicicleta.\n",
    "* `lock_date` (Fecha y Hora de Bloqueo): La fecha y hora exactas en las que finalizó el viaje.\n",
    "* `station_unlock` (Número de Estación de Desbloqueo): El número de la estación en la que la bicicleta estaba anclada antes del viaje, si la había.\n",
    "* `dock_unlock` (Muelle de Desbloqueo): El muelle de la estación en la que la bicicleta estaba anclada antes del viaje, si la había.\n",
    "*  `unlock_station_name` (Nombre de la Estación de Desbloqueo): El nombre de la estación en la que la bicicleta estaba anclada antes del viaje, si la había.\n",
    "* `station_lock` (Número de Estación de Bloqueo): El número de la estación en la que la bicicleta estaba anclada después del viaje, si la había.\n",
    "* `dock_lock` (Muelle de Bloqueo): El muelle de la estación en la que la bicicleta estaba anclada después del viaje, si la había.\n",
    "* `lock_station_name` (Nombre de la Estación de Bloqueo): El nombre de la estación en la que la bicicleta estaba anclada después del viaje, si la había.\n",
    "\n",
    "## Librerías\n",
    "\n",
    "Importar todas las librerías necesarias al principio, tal como propone el estilo `pep-8`. Ej.:\n",
    "<a href=\"https://www.python.org/dev/peps/pep-0008/\">PEP 8 -- Style Guide for Python Code</a>."
   ]
  },
  {
   "cell_type": "code",
   "execution_count": 1,
   "metadata": {},
   "outputs": [
    {
     "name": "stdout",
     "output_type": "stream",
     "text": [
      "Requirement already satisfied: pandas in c:\\proyecto_bicimad\\venv\\lib\\site-packages (2.2.3)\n",
      "Requirement already satisfied: numpy in c:\\proyecto_bicimad\\venv\\lib\\site-packages (2.1.2)\n",
      "Requirement already satisfied: matplotlib in c:\\proyecto_bicimad\\venv\\lib\\site-packages (3.9.2)\n",
      "Requirement already satisfied: seaborn in c:\\proyecto_bicimad\\venv\\lib\\site-packages (0.13.2)\n",
      "Note: you may need to restart the kernel to use updated packages.\n"
     ]
    },
    {
     "name": "stderr",
     "output_type": "stream",
     "text": [
      "ERROR: Could not find a version that satisfies the requirement zipfile (from versions: none)\n",
      "ERROR: No matching distribution found for zipfile\n",
      "\n",
      "[notice] A new release of pip is available: 23.1.2 -> 24.3.1\n",
      "[notice] To update, run: python.exe -m pip install --upgrade pip\n"
     ]
    }
   ],
   "source": [
    "pip install pandas numpy matplotlib seaborn zipfile os datetime"
   ]
  },
  {
   "cell_type": "code",
   "execution_count": 2,
   "metadata": {},
   "outputs": [
    {
     "name": "stdout",
     "output_type": "stream",
     "text": [
      "Requirement already satisfied: matplotlib in c:\\proyecto_bicimad\\venv\\lib\\site-packages (3.9.2)\n",
      "Requirement already satisfied: contourpy>=1.0.1 in c:\\proyecto_bicimad\\venv\\lib\\site-packages (from matplotlib) (1.3.0)\n",
      "Requirement already satisfied: cycler>=0.10 in c:\\proyecto_bicimad\\venv\\lib\\site-packages (from matplotlib) (0.12.1)\n",
      "Requirement already satisfied: fonttools>=4.22.0 in c:\\proyecto_bicimad\\venv\\lib\\site-packages (from matplotlib) (4.54.1)\n",
      "Requirement already satisfied: kiwisolver>=1.3.1 in c:\\proyecto_bicimad\\venv\\lib\\site-packages (from matplotlib) (1.4.7)\n",
      "Requirement already satisfied: numpy>=1.23 in c:\\proyecto_bicimad\\venv\\lib\\site-packages (from matplotlib) (2.1.2)\n",
      "Requirement already satisfied: packaging>=20.0 in c:\\proyecto_bicimad\\venv\\lib\\site-packages (from matplotlib) (24.1)\n",
      "Requirement already satisfied: pillow>=8 in c:\\proyecto_bicimad\\venv\\lib\\site-packages (from matplotlib) (11.0.0)\n",
      "Requirement already satisfied: pyparsing>=2.3.1 in c:\\proyecto_bicimad\\venv\\lib\\site-packages (from matplotlib) (3.2.0)\n",
      "Requirement already satisfied: python-dateutil>=2.7 in c:\\proyecto_bicimad\\venv\\lib\\site-packages (from matplotlib) (2.9.0.post0)\n",
      "Requirement already satisfied: six>=1.5 in c:\\proyecto_bicimad\\venv\\lib\\site-packages (from python-dateutil>=2.7->matplotlib) (1.16.0)\n"
     ]
    },
    {
     "name": "stderr",
     "output_type": "stream",
     "text": [
      "\n",
      "[notice] A new release of pip is available: 23.1.2 -> 24.3.1\n",
      "[notice] To update, run: python.exe -m pip install --upgrade pip\n"
     ]
    },
    {
     "name": "stdout",
     "output_type": "stream",
     "text": [
      "Requirement already satisfied: seaborn in c:\\proyecto_bicimad\\venv\\lib\\site-packages (0.13.2)\n",
      "Requirement already satisfied: numpy!=1.24.0,>=1.20 in c:\\proyecto_bicimad\\venv\\lib\\site-packages (from seaborn) (2.1.2)\n",
      "Requirement already satisfied: pandas>=1.2 in c:\\proyecto_bicimad\\venv\\lib\\site-packages (from seaborn) (2.2.3)\n",
      "Requirement already satisfied: matplotlib!=3.6.1,>=3.4 in c:\\proyecto_bicimad\\venv\\lib\\site-packages (from seaborn) (3.9.2)\n",
      "Requirement already satisfied: contourpy>=1.0.1 in c:\\proyecto_bicimad\\venv\\lib\\site-packages (from matplotlib!=3.6.1,>=3.4->seaborn) (1.3.0)\n",
      "Requirement already satisfied: cycler>=0.10 in c:\\proyecto_bicimad\\venv\\lib\\site-packages (from matplotlib!=3.6.1,>=3.4->seaborn) (0.12.1)\n",
      "Requirement already satisfied: fonttools>=4.22.0 in c:\\proyecto_bicimad\\venv\\lib\\site-packages (from matplotlib!=3.6.1,>=3.4->seaborn) (4.54.1)\n",
      "Requirement already satisfied: kiwisolver>=1.3.1 in c:\\proyecto_bicimad\\venv\\lib\\site-packages (from matplotlib!=3.6.1,>=3.4->seaborn) (1.4.7)\n",
      "Requirement already satisfied: packaging>=20.0 in c:\\proyecto_bicimad\\venv\\lib\\site-packages (from matplotlib!=3.6.1,>=3.4->seaborn) (24.1)\n",
      "Requirement already satisfied: pillow>=8 in c:\\proyecto_bicimad\\venv\\lib\\site-packages (from matplotlib!=3.6.1,>=3.4->seaborn) (11.0.0)\n",
      "Requirement already satisfied: pyparsing>=2.3.1 in c:\\proyecto_bicimad\\venv\\lib\\site-packages (from matplotlib!=3.6.1,>=3.4->seaborn) (3.2.0)\n",
      "Requirement already satisfied: python-dateutil>=2.7 in c:\\proyecto_bicimad\\venv\\lib\\site-packages (from matplotlib!=3.6.1,>=3.4->seaborn) (2.9.0.post0)\n",
      "Requirement already satisfied: pytz>=2020.1 in c:\\proyecto_bicimad\\venv\\lib\\site-packages (from pandas>=1.2->seaborn) (2024.2)\n",
      "Requirement already satisfied: tzdata>=2022.7 in c:\\proyecto_bicimad\\venv\\lib\\site-packages (from pandas>=1.2->seaborn) (2024.2)\n",
      "Requirement already satisfied: six>=1.5 in c:\\proyecto_bicimad\\venv\\lib\\site-packages (from python-dateutil>=2.7->matplotlib!=3.6.1,>=3.4->seaborn) (1.16.0)\n"
     ]
    },
    {
     "name": "stderr",
     "output_type": "stream",
     "text": [
      "\n",
      "[notice] A new release of pip is available: 23.1.2 -> 24.3.1\n",
      "[notice] To update, run: python.exe -m pip install --upgrade pip\n"
     ]
    }
   ],
   "source": [
    "!pip install matplotlib\n",
    "!pip install seaborn\n"
   ]
  },
  {
   "cell_type": "code",
   "execution_count": 3,
   "metadata": {
    "id": "pWnis8jARt7p"
   },
   "outputs": [],
   "source": [
    "# Sol\n",
    "import pandas as pd  # Para manipulación de datos\n",
    "import numpy as np  # Para operaciones numéricas\n",
    "import matplotlib.pyplot as plt  # Para visualización de datos\n",
    "import seaborn as sns  # Para gráficos estadísticos\n",
    "import zipfile  # Para descomprimir archivos ZIP\n",
    "import os  # Para manejo de archivos y directorios\n",
    "from datetime import datetime  # Para manejo de fechas"
   ]
  },
  {
   "cell_type": "markdown",
   "metadata": {
    "id": "PQD68K2e8Lv4"
   },
   "source": [
    "## ETAPA 1. Análisis exploratorio y consultas."
   ]
  },
  {
   "cell_type": "markdown",
   "metadata": {
    "id": "0KFTJmT8Rt7r"
   },
   "source": [
    "\n",
    "\n",
    "### La descarga de los ficheros\n",
    "\n",
    "En este notebook vamos a estudiar únicamente los datos de febrero de 2023.\n",
    "La URL que permite descargar dichos datos es la siguiente:"
   ]
  },
  {
   "cell_type": "code",
   "execution_count": 4,
   "metadata": {
    "id": "mbchhQSgRt7r"
   },
   "outputs": [],
   "source": [
    "url = \"https://opendata.emtmadrid.es/getattachment/7a88cb04-9007-4520-88c5-a94c71a0b925/trips_23_02_February-csv.aspx\""
   ]
  },
  {
   "cell_type": "markdown",
   "metadata": {
    "id": "j1LR_HpdRt7s"
   },
   "source": [
    "Observa que en la URL aparece la cadena `trips_23_02`, y que el fichero ZIP tiene un archivo de datos en formato csv llamado `trips_23_02_February.csv`.\n",
    "\n",
    "\n",
    "__Se pide:__\n",
    " Escribir una función llamada `csv_from_zip` que reciba como único argumento un string que represente la URL al fichero ZIP de datos de uso y devuelva un fichero en formato CSV. El tipo del objeto devuelto es `TextIO`. La función  lanzará una excepción de tipo `ConnectionError` en caso de que falle la petición al servidor de la EMT.\n",
    "\n",
    "__Observaciones:__\n",
    "En el notebook `05_ficheros` del módulo de `Secuencias` se habla del manejo de ficheros en formato ZIP, y de cómo leer un fichero, transformarlo en una cadena de caracteres para posteriormente, usando el método `String.IO`, obtener un fichero de texto.\n",
    "Deberás importar el módulo `typing`."
   ]
  },
  {
   "cell_type": "code",
   "execution_count": 5,
   "metadata": {
    "id": "vbpstGRbtltm"
   },
   "outputs": [],
   "source": [
    "# Solución:\n",
    "import requests\n",
    "import zipfile\n",
    "import io\n",
    "from typing import TextIO\n",
    "\n",
    "def csv_from_zip(url: str) -> TextIO:\n",
    "    \"\"\"Descarga un archivo ZIP desde la URL, extrae el CSV y devuelve un archivo de texto.\n",
    "    \n",
    "    Args:\n",
    "        url (str): URL del archivo ZIP que contiene el CSV de datos.\n",
    "    \n",
    "    Returns:\n",
    "        TextIO: Archivo de texto en formato CSV extraído del ZIP.\n",
    "    \n",
    "    Raises:\n",
    "        ConnectionError: Si falla la conexión al descargar el archivo.\n",
    "    \"\"\"\n",
    "    try:\n",
    "        # Solicitar el archivo ZIP desde la URL\n",
    "        response = requests.get(url)\n",
    "        response.raise_for_status()  # Lanza una excepción para códigos de error HTTP\n",
    "        \n",
    "        # Leer el archivo ZIP en memoria\n",
    "        zip_file = zipfile.ZipFile(io.BytesIO(response.content))\n",
    "        \n",
    "        # Encontrar el archivo CSV dentro del ZIP\n",
    "        csv_filename = [name for name in zip_file.namelist() if name.endswith('.csv')][0]\n",
    "        \n",
    "        # Leer el archivo CSV y convertirlo a formato TextIO\n",
    "        with zip_file.open(csv_filename) as csv_file:\n",
    "            csv_text = io.StringIO(csv_file.read().decode('utf-8'))\n",
    "        \n",
    "        return csv_text\n",
    "\n",
    "    except requests.RequestException:\n",
    "        raise ConnectionError(\"Fallo en la conexión al servidor de la EMT.\")\n",
    "    except zipfile.BadZipFile:\n",
    "        raise ValueError(\"El archivo descargado no es un archivo ZIP válido.\")\n",
    "    except IndexError:\n",
    "        raise ValueError(\"No se encontró un archivo CSV en el archivo ZIP.\")\n"
   ]
  },
  {
   "cell_type": "code",
   "execution_count": 6,
   "metadata": {
    "id": "jWp_chU647ei",
    "scrolled": true
   },
   "outputs": [],
   "source": [
    "# Prueba\n",
    "\n",
    "\n",
    "csvfile = csv_from_zip(url)\n",
    "\n",
    "#file_path = \"trips_23_02_February-csv.zip\"\n",
    "#csvfile = csv_from_zip(file_path)"
   ]
  },
  {
   "cell_type": "markdown",
   "metadata": {
    "id": "x0QkhwTB2m1U"
   },
   "source": [
    "### Creación del dataframe de datos\n",
    "\n",
    "__Se pide:__\n",
    "Crear una función llamada `get_data` que reciba como único argumento un fichero csv y que devuelva un objeto de tipo DataFrame con las siguientes restricciones:\n",
    "* El índice del dataframe debe ser a fecha en la que tuvo lugar el viaje (usa el argumento `index_col`).\n",
    "* Todas las fechas que aparecen en los datos ha de tener tipo `datetime` (usa el argumento 'parse_dates`).\n",
    "* De todas las columnas que hay en el fichero, solo nos interesan las siguientes:\n",
    "\n",
    "   ```\n",
    "     [ 'idBike', 'fleet', 'trip_minutes', 'geolocation_unlock', 'address_unlock', 'unlock_date', 'locktype',\n",
    "     'unlocktype', 'geolocation_lock', 'address_lock', 'lock_date', 'station_unlock', 'unlock_station_name',\n",
    "     'station_lock', 'lock_station_name']\n",
    "   ```\n",
    "\n",
    "por lo que el dataframe ha de tener solo dichas columnas.\n",
    "\n",
    "__Observaciones:__ Observa que los datos de usos que publica la EMT son fichero CSV donde el separador de campos es el símbolo `;`."
   ]
  },
  {
   "cell_type": "code",
   "execution_count": 7,
   "metadata": {
    "id": "3K-RPhMgRt7v"
   },
   "outputs": [],
   "source": [
    "# Solución\n",
    "import pandas as pd\n",
    "from typing import TextIO\n",
    "\n",
    "def get_data(csv_file: TextIO) -> pd.DataFrame:\n",
    "    \"\"\"Carga un archivo CSV en un DataFrame de Pandas con restricciones específicas.\n",
    "    \n",
    "    Args:\n",
    "        csv_file (TextIO): Objeto de archivo CSV.\n",
    "    \n",
    "    Returns:\n",
    "        pd.DataFrame: DataFrame con las columnas seleccionadas y la fecha como índice.\n",
    "    \"\"\"\n",
    "    # Definir las columnas de interés\n",
    "    columns_of_interest = [\n",
    "        'idBike', 'fleet', 'trip_minutes', 'geolocation_unlock', 'address_unlock',\n",
    "        'unlock_date', 'locktype', 'unlocktype', 'geolocation_lock', 'address_lock',\n",
    "        'lock_date', 'station_unlock', 'unlock_station_name', 'station_lock', 'lock_station_name'\n",
    "    ]\n",
    "    \n",
    "    # Leer el archivo CSV\n",
    "    df = pd.read_csv(\n",
    "        csv_file,\n",
    "        sep=';',  # Usar el separador específico\n",
    "        index_col='unlock_date',  # Usar la fecha de desbloqueo como índice\n",
    "        parse_dates=['unlock_date', 'lock_date'],  # Convertir fechas a datetime\n",
    "        usecols=columns_of_interest  # Seleccionar solo las columnas deseadas\n",
    "    )\n",
    "    \n",
    "    return df"
   ]
  },
  {
   "cell_type": "code",
   "execution_count": 8,
   "metadata": {
    "colab": {
     "base_uri": "https://localhost:8080/",
     "height": 327
    },
    "id": "nQBUiKQORt7w",
    "outputId": "bd264bd7-cf9e-4d80-af75-f505b2a99f67"
   },
   "outputs": [
    {
     "data": {
      "text/html": [
       "<div>\n",
       "<style scoped>\n",
       "    .dataframe tbody tr th:only-of-type {\n",
       "        vertical-align: middle;\n",
       "    }\n",
       "\n",
       "    .dataframe tbody tr th {\n",
       "        vertical-align: top;\n",
       "    }\n",
       "\n",
       "    .dataframe thead th {\n",
       "        text-align: right;\n",
       "    }\n",
       "</style>\n",
       "<table border=\"1\" class=\"dataframe\">\n",
       "  <thead>\n",
       "    <tr style=\"text-align: right;\">\n",
       "      <th></th>\n",
       "      <th>idBike</th>\n",
       "      <th>fleet</th>\n",
       "      <th>trip_minutes</th>\n",
       "      <th>geolocation_unlock</th>\n",
       "      <th>address_unlock</th>\n",
       "      <th>locktype</th>\n",
       "      <th>unlocktype</th>\n",
       "      <th>geolocation_lock</th>\n",
       "      <th>address_lock</th>\n",
       "      <th>lock_date</th>\n",
       "      <th>station_unlock</th>\n",
       "      <th>unlock_station_name</th>\n",
       "      <th>station_lock</th>\n",
       "      <th>lock_station_name</th>\n",
       "    </tr>\n",
       "    <tr>\n",
       "      <th>unlock_date</th>\n",
       "      <th></th>\n",
       "      <th></th>\n",
       "      <th></th>\n",
       "      <th></th>\n",
       "      <th></th>\n",
       "      <th></th>\n",
       "      <th></th>\n",
       "      <th></th>\n",
       "      <th></th>\n",
       "      <th></th>\n",
       "      <th></th>\n",
       "      <th></th>\n",
       "      <th></th>\n",
       "      <th></th>\n",
       "    </tr>\n",
       "  </thead>\n",
       "  <tbody>\n",
       "    <tr>\n",
       "      <th>NaT</th>\n",
       "      <td>NaN</td>\n",
       "      <td>NaN</td>\n",
       "      <td>NaN</td>\n",
       "      <td>NaN</td>\n",
       "      <td>NaN</td>\n",
       "      <td>NaN</td>\n",
       "      <td>NaN</td>\n",
       "      <td>NaN</td>\n",
       "      <td>NaN</td>\n",
       "      <td>NaT</td>\n",
       "      <td>NaN</td>\n",
       "      <td>NaN</td>\n",
       "      <td>NaN</td>\n",
       "      <td>NaN</td>\n",
       "    </tr>\n",
       "    <tr>\n",
       "      <th>2023-02-01 00:00:10</th>\n",
       "      <td>7337.0</td>\n",
       "      <td>1.0</td>\n",
       "      <td>5.52</td>\n",
       "      <td>{'type': 'Point', 'coordinates': [-3.6956178, ...</td>\n",
       "      <td>'Calle Jesús nº 1'</td>\n",
       "      <td>STATION</td>\n",
       "      <td>STATION</td>\n",
       "      <td>{'type': 'Point', 'coordinates': [-3.7088337, ...</td>\n",
       "      <td>'Plaza de la Cebada nº 16 '</td>\n",
       "      <td>2023-02-01 00:05:41</td>\n",
       "      <td>31.0</td>\n",
       "      <td>27 - Huertas</td>\n",
       "      <td>43.0</td>\n",
       "      <td>39 - Plaza de la Cebada</td>\n",
       "    </tr>\n",
       "    <tr>\n",
       "      <th>NaT</th>\n",
       "      <td>NaN</td>\n",
       "      <td>NaN</td>\n",
       "      <td>NaN</td>\n",
       "      <td>NaN</td>\n",
       "      <td>NaN</td>\n",
       "      <td>NaN</td>\n",
       "      <td>NaN</td>\n",
       "      <td>NaN</td>\n",
       "      <td>NaN</td>\n",
       "      <td>NaT</td>\n",
       "      <td>NaN</td>\n",
       "      <td>NaN</td>\n",
       "      <td>NaN</td>\n",
       "      <td>NaN</td>\n",
       "    </tr>\n",
       "    <tr>\n",
       "      <th>2023-02-01 00:00:25</th>\n",
       "      <td>5098.0</td>\n",
       "      <td>1.0</td>\n",
       "      <td>0.32</td>\n",
       "      <td>{'type': 'Point', 'coordinates': [-3.7022591, ...</td>\n",
       "      <td>'Glorieta de Embajadores nº 2'</td>\n",
       "      <td>STATION</td>\n",
       "      <td>STATION</td>\n",
       "      <td>{'type': 'Point', 'coordinates': [-3.7022591, ...</td>\n",
       "      <td>'Glorieta de Embajadores nº 2'</td>\n",
       "      <td>2023-02-01 00:00:44</td>\n",
       "      <td>52.0</td>\n",
       "      <td>48 - Embajadores 2</td>\n",
       "      <td>52.0</td>\n",
       "      <td>48 - Embajadores 2</td>\n",
       "    </tr>\n",
       "    <tr>\n",
       "      <th>NaT</th>\n",
       "      <td>NaN</td>\n",
       "      <td>NaN</td>\n",
       "      <td>NaN</td>\n",
       "      <td>NaN</td>\n",
       "      <td>NaN</td>\n",
       "      <td>NaN</td>\n",
       "      <td>NaN</td>\n",
       "      <td>NaN</td>\n",
       "      <td>NaN</td>\n",
       "      <td>NaT</td>\n",
       "      <td>NaN</td>\n",
       "      <td>NaN</td>\n",
       "      <td>NaN</td>\n",
       "      <td>NaN</td>\n",
       "    </tr>\n",
       "  </tbody>\n",
       "</table>\n",
       "</div>"
      ],
      "text/plain": [
       "                     idBike  fleet  trip_minutes  \\\n",
       "unlock_date                                        \n",
       "NaT                     NaN    NaN           NaN   \n",
       "2023-02-01 00:00:10  7337.0    1.0          5.52   \n",
       "NaT                     NaN    NaN           NaN   \n",
       "2023-02-01 00:00:25  5098.0    1.0          0.32   \n",
       "NaT                     NaN    NaN           NaN   \n",
       "\n",
       "                                                    geolocation_unlock  \\\n",
       "unlock_date                                                              \n",
       "NaT                                                                NaN   \n",
       "2023-02-01 00:00:10  {'type': 'Point', 'coordinates': [-3.6956178, ...   \n",
       "NaT                                                                NaN   \n",
       "2023-02-01 00:00:25  {'type': 'Point', 'coordinates': [-3.7022591, ...   \n",
       "NaT                                                                NaN   \n",
       "\n",
       "                                     address_unlock locktype unlocktype  \\\n",
       "unlock_date                                                               \n",
       "NaT                                             NaN      NaN        NaN   \n",
       "2023-02-01 00:00:10              'Calle Jesús nº 1'  STATION    STATION   \n",
       "NaT                                             NaN      NaN        NaN   \n",
       "2023-02-01 00:00:25  'Glorieta de Embajadores nº 2'  STATION    STATION   \n",
       "NaT                                             NaN      NaN        NaN   \n",
       "\n",
       "                                                      geolocation_lock  \\\n",
       "unlock_date                                                              \n",
       "NaT                                                                NaN   \n",
       "2023-02-01 00:00:10  {'type': 'Point', 'coordinates': [-3.7088337, ...   \n",
       "NaT                                                                NaN   \n",
       "2023-02-01 00:00:25  {'type': 'Point', 'coordinates': [-3.7022591, ...   \n",
       "NaT                                                                NaN   \n",
       "\n",
       "                                       address_lock           lock_date  \\\n",
       "unlock_date                                                               \n",
       "NaT                                             NaN                 NaT   \n",
       "2023-02-01 00:00:10     'Plaza de la Cebada nº 16 ' 2023-02-01 00:05:41   \n",
       "NaT                                             NaN                 NaT   \n",
       "2023-02-01 00:00:25  'Glorieta de Embajadores nº 2' 2023-02-01 00:00:44   \n",
       "NaT                                             NaN                 NaT   \n",
       "\n",
       "                     station_unlock unlock_station_name  station_lock  \\\n",
       "unlock_date                                                             \n",
       "NaT                             NaN                 NaN           NaN   \n",
       "2023-02-01 00:00:10            31.0        27 - Huertas          43.0   \n",
       "NaT                             NaN                 NaN           NaN   \n",
       "2023-02-01 00:00:25            52.0  48 - Embajadores 2          52.0   \n",
       "NaT                             NaN                 NaN           NaN   \n",
       "\n",
       "                           lock_station_name  \n",
       "unlock_date                                   \n",
       "NaT                                      NaN  \n",
       "2023-02-01 00:00:10  39 - Plaza de la Cebada  \n",
       "NaT                                      NaN  \n",
       "2023-02-01 00:00:25       48 - Embajadores 2  \n",
       "NaT                                      NaN  "
      ]
     },
     "execution_count": 8,
     "metadata": {},
     "output_type": "execute_result"
    }
   ],
   "source": [
    "# prueba\n",
    "usos = get_data(csvfile)\n",
    "usos.head()"
   ]
  },
  {
   "cell_type": "markdown",
   "metadata": {
    "id": "OZFFhbfoRt7x"
   },
   "source": [
    "### Explorar la estructura de los datos en el dataframe\n",
    "\n",
    "El método `info` devuelve información acerca de la estructura de un dataframe.\n",
    "\n",
    "__Se pide:__\n",
    "Escribe el código necesario para crear un dataframe llamado `usos` a partir de la url \"https://opendata.emtmadrid.es/getattachment/7a88cb04-9007-4520-88c5-a94c71a0b925/trips_23_02_February-csv.aspx\".\n",
    "Ejecuta el método `info()` sobre el dataframe y comenta los resultados.\n",
    "Fíjate en las columnas que representan fechas y comprueba su tipo de datos. ¿Cuántas filas se han cargado?. Fíjate en los valores distintos de `NaN` en cada una de las columnas."
   ]
  },
  {
   "cell_type": "code",
   "execution_count": 9,
   "metadata": {
    "id": "sc7qtntbRt7y"
   },
   "outputs": [
    {
     "name": "stdout",
     "output_type": "stream",
     "text": [
      "<class 'pandas.core.frame.DataFrame'>\n",
      "DatetimeIndex: 336988 entries, NaT to 2023-02-18 07:22:48\n",
      "Data columns (total 14 columns):\n",
      " #   Column               Non-Null Count   Dtype         \n",
      "---  ------               --------------   -----         \n",
      " 0   idBike               168494 non-null  float64       \n",
      " 1   fleet                168494 non-null  float64       \n",
      " 2   trip_minutes         168494 non-null  float64       \n",
      " 3   geolocation_unlock   168494 non-null  object        \n",
      " 4   address_unlock       168494 non-null  object        \n",
      " 5   locktype             168494 non-null  object        \n",
      " 6   unlocktype           168494 non-null  object        \n",
      " 7   geolocation_lock     168494 non-null  object        \n",
      " 8   address_lock         168494 non-null  object        \n",
      " 9   lock_date            168494 non-null  datetime64[ns]\n",
      " 10  station_unlock       168114 non-null  float64       \n",
      " 11  unlock_station_name  168114 non-null  object        \n",
      " 12  station_lock         168018 non-null  float64       \n",
      " 13  lock_station_name    168018 non-null  object        \n",
      "dtypes: datetime64[ns](1), float64(5), object(8)\n",
      "memory usage: 38.6+ MB\n",
      "None\n",
      "\n",
      "Valores distintos de NaN en cada columna:\n",
      "idBike                 168494\n",
      "fleet                  168494\n",
      "trip_minutes           168494\n",
      "geolocation_unlock     168494\n",
      "address_unlock         168494\n",
      "locktype               168494\n",
      "unlocktype             168494\n",
      "geolocation_lock       168494\n",
      "address_lock           168494\n",
      "lock_date              168494\n",
      "station_unlock         168114\n",
      "unlock_station_name    168114\n",
      "station_lock           168018\n",
      "lock_station_name      168018\n",
      "dtype: int64\n"
     ]
    }
   ],
   "source": [
    "# Solución\n",
    "import requests\n",
    "import zipfile\n",
    "import io\n",
    "import pandas as pd\n",
    "\n",
    "# Paso 1: Descargar y extraer el archivo CSV desde la URL\n",
    "def csv_from_url(url: str) -> io.StringIO:\n",
    "    \"\"\"Descarga un archivo ZIP desde la URL y extrae el archivo CSV.\"\"\"\n",
    "    response = requests.get(url)\n",
    "    response.raise_for_status()  # Lanza una excepción si la descarga falla\n",
    "    zip_file = zipfile.ZipFile(io.BytesIO(response.content))\n",
    "    \n",
    "    # Extraer el archivo CSV\n",
    "    csv_filename = [name for name in zip_file.namelist() if name.endswith('.csv')][0]\n",
    "    with zip_file.open(csv_filename) as csv_file:\n",
    "        csv_text = io.StringIO(csv_file.read().decode('utf-8'))\n",
    "    \n",
    "    return csv_text\n",
    "\n",
    "# Paso 2: Cargar el archivo CSV en un DataFrame con restricciones\n",
    "def get_data(csv_file: io.StringIO) -> pd.DataFrame:\n",
    "    \"\"\"Carga el archivo CSV en un DataFrame con restricciones de columnas y tipos de datos.\"\"\"\n",
    "    columns_of_interest = [\n",
    "        'idBike', 'fleet', 'trip_minutes', 'geolocation_unlock', 'address_unlock',\n",
    "        'unlock_date', 'locktype', 'unlocktype', 'geolocation_lock', 'address_lock',\n",
    "        'lock_date', 'station_unlock', 'unlock_station_name', 'station_lock', 'lock_station_name'\n",
    "    ]\n",
    "    \n",
    "    df = pd.read_csv(\n",
    "        csv_file,\n",
    "        sep=';',  # Separador punto y coma\n",
    "        index_col='unlock_date',  # Establecer 'unlock_date' como índice\n",
    "        parse_dates=['unlock_date', 'lock_date'],  # Convertir fechas a datetime\n",
    "        usecols=columns_of_interest  # Seleccionar solo las columnas de interés\n",
    "    )\n",
    "    return df\n",
    "\n",
    "# URL del archivo de datos de BiciMAD de febrero de 2023\n",
    "url = \"https://opendata.emtmadrid.es/getattachment/7a88cb04-9007-4520-88c5-a94c71a0b925/trips_23_02_February-csv.aspx\"\n",
    "\n",
    "# Crear el DataFrame `usos`\n",
    "csvfile = csv_from_url(url)\n",
    "usos = get_data(csvfile)\n",
    "\n",
    "# Explorar la estructura del DataFrame\n",
    "usos_info = usos.info()\n",
    "print(usos_info)\n",
    "\n",
    "# Calcular valores no nulos en cada columna\n",
    "na_counts = usos.notna().sum()\n",
    "print(\"\\nValores distintos de NaN en cada columna:\")\n",
    "print(na_counts)\n"
   ]
  },
  {
   "cell_type": "markdown",
   "metadata": {
    "id": "7OwHFc6SRt7z"
   },
   "source": [
    "### Borrado de valores NaN.\n",
    "\n",
    "El método  `dropna` de los DataFrames tiene un argumento `how` que permite indicar que se borren filas o columnas donde todos los valores son `NaN`.\n",
    "\n",
    "__Se pide:__ Crear una función llamada `delete_nan_rows` que borre las filas con todos sus valores `NaN` de un dataframe recibido como argumento. La función modifica el dataframe y no devuelve nada.  \n",
    "\n",
    "Comenta los resultados. Prueba la función `delete_nan_rows` con el dataframe `usos`. Comprueba que el número de filas del dataframe `usos` ha cambiado. Puedes volver a ejecutar el método `info` y compáralo con el resultado antes de invocar a la función `delete_nan_rows`."
   ]
  },
  {
   "cell_type": "code",
   "execution_count": 10,
   "metadata": {
    "id": "eoZVNPk2Rt70"
   },
   "outputs": [
    {
     "name": "stdout",
     "output_type": "stream",
     "text": [
      "Antes de eliminar filas con todos sus valores NaN:\n",
      "<class 'pandas.core.frame.DataFrame'>\n",
      "DatetimeIndex: 336988 entries, NaT to 2023-02-18 07:22:48\n",
      "Data columns (total 14 columns):\n",
      " #   Column               Non-Null Count   Dtype         \n",
      "---  ------               --------------   -----         \n",
      " 0   idBike               168494 non-null  float64       \n",
      " 1   fleet                168494 non-null  float64       \n",
      " 2   trip_minutes         168494 non-null  float64       \n",
      " 3   geolocation_unlock   168494 non-null  object        \n",
      " 4   address_unlock       168494 non-null  object        \n",
      " 5   locktype             168494 non-null  object        \n",
      " 6   unlocktype           168494 non-null  object        \n",
      " 7   geolocation_lock     168494 non-null  object        \n",
      " 8   address_lock         168494 non-null  object        \n",
      " 9   lock_date            168494 non-null  datetime64[ns]\n",
      " 10  station_unlock       168114 non-null  float64       \n",
      " 11  unlock_station_name  168114 non-null  object        \n",
      " 12  station_lock         168018 non-null  float64       \n",
      " 13  lock_station_name    168018 non-null  object        \n",
      "dtypes: datetime64[ns](1), float64(5), object(8)\n",
      "memory usage: 38.6+ MB\n",
      "\n",
      "Después de eliminar filas con todos sus valores NaN:\n",
      "<class 'pandas.core.frame.DataFrame'>\n",
      "DatetimeIndex: 168494 entries, 2023-02-01 00:00:10 to 2023-02-18 07:22:48\n",
      "Data columns (total 14 columns):\n",
      " #   Column               Non-Null Count   Dtype         \n",
      "---  ------               --------------   -----         \n",
      " 0   idBike               168494 non-null  float64       \n",
      " 1   fleet                168494 non-null  float64       \n",
      " 2   trip_minutes         168494 non-null  float64       \n",
      " 3   geolocation_unlock   168494 non-null  object        \n",
      " 4   address_unlock       168494 non-null  object        \n",
      " 5   locktype             168494 non-null  object        \n",
      " 6   unlocktype           168494 non-null  object        \n",
      " 7   geolocation_lock     168494 non-null  object        \n",
      " 8   address_lock         168494 non-null  object        \n",
      " 9   lock_date            168494 non-null  datetime64[ns]\n",
      " 10  station_unlock       168114 non-null  float64       \n",
      " 11  unlock_station_name  168114 non-null  object        \n",
      " 12  station_lock         168018 non-null  float64       \n",
      " 13  lock_station_name    168018 non-null  object        \n",
      "dtypes: datetime64[ns](1), float64(5), object(8)\n",
      "memory usage: 19.3+ MB\n",
      "\n",
      "Comparación de número de filas:\n",
      "Antes: None filas\n",
      "Después: None filas\n"
     ]
    }
   ],
   "source": [
    "# Solución\n",
    "def delete_nan_rows(df: pd.DataFrame) -> None:\n",
    "    \"\"\"Elimina las filas de un DataFrame que tienen todos sus valores como NaN.\n",
    "    \n",
    "    Args:\n",
    "        df (pd.DataFrame): El DataFrame al cual se le eliminarán las filas con todos los valores NaN.\n",
    "    \"\"\"\n",
    "    df.dropna(how=\"all\", inplace=True)\n",
    "\n",
    "    # Mostrar información del DataFrame antes de eliminar filas con NaN\n",
    "print(\"Antes de eliminar filas con todos sus valores NaN:\")\n",
    "usos_info_before = usos.info()\n",
    "\n",
    "# Aplicar la función delete_nan_rows\n",
    "delete_nan_rows(usos)\n",
    "\n",
    "# Mostrar información del DataFrame después de eliminar filas con NaN\n",
    "print(\"\\nDespués de eliminar filas con todos sus valores NaN:\")\n",
    "usos_info_after = usos.info()\n",
    "\n",
    "# Comparación de filas\n",
    "print(\"\\nComparación de número de filas:\")\n",
    "print(f\"Antes: {usos_info_before} filas\")\n",
    "print(f\"Después: {usos_info_after} filas\")\n"
   ]
  },
  {
   "cell_type": "markdown",
   "metadata": {
    "id": "M9oCNyRdRt71"
   },
   "source": [
    "###  Exploración de las columnas.\n",
    "\n",
    "La columna `fleet` representa el tipo de flota de bicicleta eléctrica.\n",
    "Las BiciMAD Go son free floating y se corresponden con tipo de flota 2. A diferencia de las BiciMAD normales, no tienen por qué dejarse en una estación de bicicletas, aunque existe la posibilidad de hacerlo. Su bloqueo se realiza por medio de un candado manual, aspecto en el que se diferencian de las otras bicis municipales.\n",
    "\n",
    "Por otro lado, las columnas `locktype` y `unlocktype` tienen información del tipo de bloqueo y desbloqueo respectivamente.\n",
    "\n",
    "__Se pide:__\n",
    "* ¿Cuántos valores distintos hay en la columna `fleet` del dataframe `usos`?\n",
    "* ¿Cuántos valores distintos hay en las columnas `locktype` y `unlocktype` del dataframe `usos`?"
   ]
  },
  {
   "cell_type": "code",
   "execution_count": 11,
   "metadata": {
    "id": "4W_iGd6ARt71"
   },
   "outputs": [
    {
     "name": "stdout",
     "output_type": "stream",
     "text": [
      "Valores distintos en la columna 'fleet': 2\n",
      "Valores distintos en la columna 'locktype': 2\n",
      "Valores distintos en la columna 'unlocktype': 2\n"
     ]
    }
   ],
   "source": [
    "# Sol\n",
    "# Contar valores distintos en la columna fleet\n",
    "fleet_unique_count = usos['fleet'].nunique()\n",
    "print(f\"Valores distintos en la columna 'fleet': {fleet_unique_count}\")\n",
    "\n",
    "# Contar valores distintos en las columnas locktype y unlocktype\n",
    "locktype_unique_count = usos['locktype'].nunique()\n",
    "unlocktype_unique_count = usos['unlocktype'].nunique()\n",
    "print(f\"Valores distintos en la columna 'locktype': {locktype_unique_count}\")\n",
    "print(f\"Valores distintos en la columna 'unlocktype': {unlocktype_unique_count}\")\n"
   ]
  },
  {
   "cell_type": "markdown",
   "metadata": {
    "id": "r2z0lErlRt73"
   },
   "source": [
    "### Cambio de tipo de datos\n",
    "\n",
    "Las columnas  `idBike` y `fleet`  tienen tipo float, pero en realidad representan un identificador de bicicleta y de flota respectivamente.\n",
    "\n",
    "__Se pide:__ Crear una función llamada `float_to_str` que cambie el tipo de una columna a tipo string. La función recibe como argumentos un dataframe y el nombre de una columna. La función no devuelve nada.\n",
    "Si la columna no se encuentra entre las columnas del dataframe, la función no hace nada.\n",
    "\n",
    "__Observaciones:__ Puedes usar la función `map` para aplicar la función de transformación.\n",
    "\n",
    "Prueba la función con el datafame `usos` y  las columnas `idBike` y `fleet`.\n",
    "De esta forma, el identificador de bicicleta `7337.0` pasará a ser `'7337'`. Ejecuta la función `info` sobre el dataframe `usos` para comprobar que los tipos asociados a esas columnas han cambiado."
   ]
  },
  {
   "cell_type": "code",
   "execution_count": 12,
   "metadata": {
    "id": "RCMPy5x0Rt74"
   },
   "outputs": [
    {
     "name": "stdout",
     "output_type": "stream",
     "text": [
      "\n",
      "Estructura del DataFrame después de la conversión:\n",
      "<class 'pandas.core.frame.DataFrame'>\n",
      "DatetimeIndex: 168494 entries, 2023-02-01 00:00:10 to 2023-02-18 07:22:48\n",
      "Data columns (total 14 columns):\n",
      " #   Column               Non-Null Count   Dtype         \n",
      "---  ------               --------------   -----         \n",
      " 0   idBike               168494 non-null  object        \n",
      " 1   fleet                168494 non-null  object        \n",
      " 2   trip_minutes         168494 non-null  float64       \n",
      " 3   geolocation_unlock   168494 non-null  object        \n",
      " 4   address_unlock       168494 non-null  object        \n",
      " 5   locktype             168494 non-null  object        \n",
      " 6   unlocktype           168494 non-null  object        \n",
      " 7   geolocation_lock     168494 non-null  object        \n",
      " 8   address_lock         168494 non-null  object        \n",
      " 9   lock_date            168494 non-null  datetime64[ns]\n",
      " 10  station_unlock       168114 non-null  float64       \n",
      " 11  unlock_station_name  168114 non-null  object        \n",
      " 12  station_lock         168018 non-null  float64       \n",
      " 13  lock_station_name    168018 non-null  object        \n",
      "dtypes: datetime64[ns](1), float64(3), object(10)\n",
      "memory usage: 19.3+ MB\n"
     ]
    }
   ],
   "source": [
    "# Solución\n",
    "def float_to_str(df: pd.DataFrame, column_name: str) -> None:\n",
    "    \"\"\"Convierte el tipo de una columna de un DataFrame a string, si existe la columna.\n",
    "    \n",
    "    Args:\n",
    "        df (pd.DataFrame): El DataFrame que contiene la columna a convertir.\n",
    "        column_name (str): El nombre de la columna a convertir a string.\n",
    "    \"\"\"\n",
    "    if column_name in df.columns:\n",
    "        df[column_name] = df[column_name].map(lambda x: str(int(x)) if pd.notna(x) else None)\n",
    "\n",
    "# Aplicar la función float_to_str en las columnas 'idBike' y 'fleet' del DataFrame usos\n",
    "float_to_str(usos, 'idBike')\n",
    "float_to_str(usos, 'fleet')\n",
    "\n",
    "# Verificar los cambios de tipo con el método info()\n",
    "print(\"\\nEstructura del DataFrame después de la conversión:\")\n",
    "usos.info()\n"
   ]
  },
  {
   "cell_type": "markdown",
   "metadata": {
    "id": "Uv_pgIa5Rt76"
   },
   "source": [
    "## Consultas\n",
    "\n",
    "Las siguientes consultas se realizarán con el dataframe `usos` creado en los apartados anteriores."
   ]
  },
  {
   "cell_type": "markdown",
   "metadata": {
    "id": "CaYkWlwxRt76"
   },
   "source": [
    "### C1\n",
    "\n",
    "¿Cuántas bicicletas han sido desbloqueadas de una estación y no se bloquean en ninguna?"
   ]
  },
  {
   "cell_type": "code",
   "execution_count": 35,
   "metadata": {
    "id": "40XRntcJRt77"
   },
   "outputs": [
    {
     "name": "stdout",
     "output_type": "stream",
     "text": [
      "Cantidad de bicicletas desbloqueadas en una estación y no bloqueadas en ninguna: 168\n"
     ]
    }
   ],
   "source": [
    "#from bicimad import Bicimad\n",
    "\n",
    "# Filtrar bicicletas desbloqueadas en una estación pero no bloqueadas en ninguna\n",
    "bicicletas_sin_bloqueo = usos[(usos['station_unlock'].notna()) & (usos['station_lock'].isna())]\n",
    "\n",
    "# Contar la cantidad de registros que cumplen esta condición\n",
    "cantidad_bicicletas_sin_bloqueo = bicicletas_sin_bloqueo.shape[0]\n",
    "print(f\"Cantidad de bicicletas desbloqueadas en una estación y no bloqueadas en ninguna: {cantidad_bicicletas_sin_bloqueo}\")\n",
    "\n"
   ]
  },
  {
   "cell_type": "markdown",
   "metadata": {
    "id": "fhuXXgEZRt77"
   },
   "source": [
    "### C2\n",
    "\n",
    "Seleccionar solo las bicicletas del tipo de flota '1' . El nuevo dataframe se ha de llamar `regular_fleet`."
   ]
  },
  {
   "cell_type": "code",
   "execution_count": 14,
   "metadata": {
    "id": "eX7P4rMcRt78"
   },
   "outputs": [
    {
     "data": {
      "text/html": [
       "<div>\n",
       "<style scoped>\n",
       "    .dataframe tbody tr th:only-of-type {\n",
       "        vertical-align: middle;\n",
       "    }\n",
       "\n",
       "    .dataframe tbody tr th {\n",
       "        vertical-align: top;\n",
       "    }\n",
       "\n",
       "    .dataframe thead th {\n",
       "        text-align: right;\n",
       "    }\n",
       "</style>\n",
       "<table border=\"1\" class=\"dataframe\">\n",
       "  <thead>\n",
       "    <tr style=\"text-align: right;\">\n",
       "      <th></th>\n",
       "      <th>idBike</th>\n",
       "      <th>fleet</th>\n",
       "      <th>trip_minutes</th>\n",
       "      <th>geolocation_unlock</th>\n",
       "      <th>address_unlock</th>\n",
       "      <th>locktype</th>\n",
       "      <th>unlocktype</th>\n",
       "      <th>geolocation_lock</th>\n",
       "      <th>address_lock</th>\n",
       "      <th>lock_date</th>\n",
       "      <th>station_unlock</th>\n",
       "      <th>unlock_station_name</th>\n",
       "      <th>station_lock</th>\n",
       "      <th>lock_station_name</th>\n",
       "    </tr>\n",
       "    <tr>\n",
       "      <th>unlock_date</th>\n",
       "      <th></th>\n",
       "      <th></th>\n",
       "      <th></th>\n",
       "      <th></th>\n",
       "      <th></th>\n",
       "      <th></th>\n",
       "      <th></th>\n",
       "      <th></th>\n",
       "      <th></th>\n",
       "      <th></th>\n",
       "      <th></th>\n",
       "      <th></th>\n",
       "      <th></th>\n",
       "      <th></th>\n",
       "    </tr>\n",
       "  </thead>\n",
       "  <tbody>\n",
       "    <tr>\n",
       "      <th>2023-02-01 00:00:10</th>\n",
       "      <td>7337</td>\n",
       "      <td>1</td>\n",
       "      <td>5.52</td>\n",
       "      <td>{'type': 'Point', 'coordinates': [-3.6956178, ...</td>\n",
       "      <td>'Calle Jesús nº 1'</td>\n",
       "      <td>STATION</td>\n",
       "      <td>STATION</td>\n",
       "      <td>{'type': 'Point', 'coordinates': [-3.7088337, ...</td>\n",
       "      <td>'Plaza de la Cebada nº 16 '</td>\n",
       "      <td>2023-02-01 00:05:41</td>\n",
       "      <td>31.0</td>\n",
       "      <td>27 - Huertas</td>\n",
       "      <td>43.0</td>\n",
       "      <td>39 - Plaza de la Cebada</td>\n",
       "    </tr>\n",
       "    <tr>\n",
       "      <th>2023-02-01 00:00:25</th>\n",
       "      <td>5098</td>\n",
       "      <td>1</td>\n",
       "      <td>0.32</td>\n",
       "      <td>{'type': 'Point', 'coordinates': [-3.7022591, ...</td>\n",
       "      <td>'Glorieta de Embajadores nº 2'</td>\n",
       "      <td>STATION</td>\n",
       "      <td>STATION</td>\n",
       "      <td>{'type': 'Point', 'coordinates': [-3.7022591, ...</td>\n",
       "      <td>'Glorieta de Embajadores nº 2'</td>\n",
       "      <td>2023-02-01 00:00:44</td>\n",
       "      <td>52.0</td>\n",
       "      <td>48 - Embajadores 2</td>\n",
       "      <td>52.0</td>\n",
       "      <td>48 - Embajadores 2</td>\n",
       "    </tr>\n",
       "    <tr>\n",
       "      <th>2023-02-01 00:00:36</th>\n",
       "      <td>6519</td>\n",
       "      <td>1</td>\n",
       "      <td>0.27</td>\n",
       "      <td>{'type': 'Point', 'coordinates': [-3.6894193, ...</td>\n",
       "      <td>'Calle Antonio Maura nº 15'</td>\n",
       "      <td>STATION</td>\n",
       "      <td>STATION</td>\n",
       "      <td>{'type': 'Point', 'coordinates': [-3.6894193, ...</td>\n",
       "      <td>'Calle Antonio Maura nº 15'</td>\n",
       "      <td>2023-02-01 00:00:52</td>\n",
       "      <td>69.0</td>\n",
       "      <td>65 - Antonio Maura</td>\n",
       "      <td>69.0</td>\n",
       "      <td>65 - Antonio Maura</td>\n",
       "    </tr>\n",
       "    <tr>\n",
       "      <th>2023-02-01 00:00:53</th>\n",
       "      <td>2551</td>\n",
       "      <td>1</td>\n",
       "      <td>8.58</td>\n",
       "      <td>{'type': 'Point', 'coordinates': [-3.7022591, ...</td>\n",
       "      <td>'Glorieta de Embajadores nº 2'</td>\n",
       "      <td>STATION</td>\n",
       "      <td>STATION</td>\n",
       "      <td>{'type': 'Point', 'coordinates': [-3.6991147, ...</td>\n",
       "      <td>'Calle Atocha nº 54'</td>\n",
       "      <td>2023-02-01 00:09:28</td>\n",
       "      <td>52.0</td>\n",
       "      <td>48 - Embajadores 2</td>\n",
       "      <td>45.0</td>\n",
       "      <td>41 - Antón Martín</td>\n",
       "    </tr>\n",
       "    <tr>\n",
       "      <th>2023-02-01 00:00:57</th>\n",
       "      <td>6519</td>\n",
       "      <td>1</td>\n",
       "      <td>0.20</td>\n",
       "      <td>{'type': 'Point', 'coordinates': [-3.6894193, ...</td>\n",
       "      <td>'Calle Antonio Maura nº 15'</td>\n",
       "      <td>STATION</td>\n",
       "      <td>STATION</td>\n",
       "      <td>{'type': 'Point', 'coordinates': [-3.6894193, ...</td>\n",
       "      <td>'Calle Antonio Maura nº 15'</td>\n",
       "      <td>2023-02-01 00:01:09</td>\n",
       "      <td>69.0</td>\n",
       "      <td>65 - Antonio Maura</td>\n",
       "      <td>69.0</td>\n",
       "      <td>65 - Antonio Maura</td>\n",
       "    </tr>\n",
       "  </tbody>\n",
       "</table>\n",
       "</div>"
      ],
      "text/plain": [
       "                    idBike fleet  trip_minutes  \\\n",
       "unlock_date                                      \n",
       "2023-02-01 00:00:10   7337     1          5.52   \n",
       "2023-02-01 00:00:25   5098     1          0.32   \n",
       "2023-02-01 00:00:36   6519     1          0.27   \n",
       "2023-02-01 00:00:53   2551     1          8.58   \n",
       "2023-02-01 00:00:57   6519     1          0.20   \n",
       "\n",
       "                                                    geolocation_unlock  \\\n",
       "unlock_date                                                              \n",
       "2023-02-01 00:00:10  {'type': 'Point', 'coordinates': [-3.6956178, ...   \n",
       "2023-02-01 00:00:25  {'type': 'Point', 'coordinates': [-3.7022591, ...   \n",
       "2023-02-01 00:00:36  {'type': 'Point', 'coordinates': [-3.6894193, ...   \n",
       "2023-02-01 00:00:53  {'type': 'Point', 'coordinates': [-3.7022591, ...   \n",
       "2023-02-01 00:00:57  {'type': 'Point', 'coordinates': [-3.6894193, ...   \n",
       "\n",
       "                                     address_unlock locktype unlocktype  \\\n",
       "unlock_date                                                               \n",
       "2023-02-01 00:00:10              'Calle Jesús nº 1'  STATION    STATION   \n",
       "2023-02-01 00:00:25  'Glorieta de Embajadores nº 2'  STATION    STATION   \n",
       "2023-02-01 00:00:36     'Calle Antonio Maura nº 15'  STATION    STATION   \n",
       "2023-02-01 00:00:53  'Glorieta de Embajadores nº 2'  STATION    STATION   \n",
       "2023-02-01 00:00:57     'Calle Antonio Maura nº 15'  STATION    STATION   \n",
       "\n",
       "                                                      geolocation_lock  \\\n",
       "unlock_date                                                              \n",
       "2023-02-01 00:00:10  {'type': 'Point', 'coordinates': [-3.7088337, ...   \n",
       "2023-02-01 00:00:25  {'type': 'Point', 'coordinates': [-3.7022591, ...   \n",
       "2023-02-01 00:00:36  {'type': 'Point', 'coordinates': [-3.6894193, ...   \n",
       "2023-02-01 00:00:53  {'type': 'Point', 'coordinates': [-3.6991147, ...   \n",
       "2023-02-01 00:00:57  {'type': 'Point', 'coordinates': [-3.6894193, ...   \n",
       "\n",
       "                                       address_lock           lock_date  \\\n",
       "unlock_date                                                               \n",
       "2023-02-01 00:00:10     'Plaza de la Cebada nº 16 ' 2023-02-01 00:05:41   \n",
       "2023-02-01 00:00:25  'Glorieta de Embajadores nº 2' 2023-02-01 00:00:44   \n",
       "2023-02-01 00:00:36     'Calle Antonio Maura nº 15' 2023-02-01 00:00:52   \n",
       "2023-02-01 00:00:53            'Calle Atocha nº 54' 2023-02-01 00:09:28   \n",
       "2023-02-01 00:00:57     'Calle Antonio Maura nº 15' 2023-02-01 00:01:09   \n",
       "\n",
       "                     station_unlock unlock_station_name  station_lock  \\\n",
       "unlock_date                                                             \n",
       "2023-02-01 00:00:10            31.0        27 - Huertas          43.0   \n",
       "2023-02-01 00:00:25            52.0  48 - Embajadores 2          52.0   \n",
       "2023-02-01 00:00:36            69.0  65 - Antonio Maura          69.0   \n",
       "2023-02-01 00:00:53            52.0  48 - Embajadores 2          45.0   \n",
       "2023-02-01 00:00:57            69.0  65 - Antonio Maura          69.0   \n",
       "\n",
       "                           lock_station_name  \n",
       "unlock_date                                   \n",
       "2023-02-01 00:00:10  39 - Plaza de la Cebada  \n",
       "2023-02-01 00:00:25       48 - Embajadores 2  \n",
       "2023-02-01 00:00:36       65 - Antonio Maura  \n",
       "2023-02-01 00:00:53        41 - Antón Martín  \n",
       "2023-02-01 00:00:57       65 - Antonio Maura  "
      ]
     },
     "execution_count": 14,
     "metadata": {},
     "output_type": "execute_result"
    }
   ],
   "source": [
    "# Sol\n",
    "# Filtrar las bicicletas del tipo de flota '1'\n",
    "regular_fleet = usos[usos['fleet'] == '1']\n",
    "\n",
    "# Mostrar las primeras filas para confirmar el filtrado\n",
    "regular_fleet.head()"
   ]
  },
  {
   "cell_type": "markdown",
   "metadata": {
    "id": "dTibdtq7Rt78"
   },
   "source": [
    "### C3\n",
    "\n",
    "Crea una función llamada `day_time` para calcular las horas totales de uso de bicicletas por día del mes.\n",
    "La función recibe un dataframe y devuelve una Serie donde el índice es la fecha y el valor es el número de horas.\n",
    "\n",
    "Prueba la función anterior con el dataframe  `usos`.\n",
    "\n",
    "__Opcional:__ Dibuja un diagrama de barras con el resultado de la función `day_time` sobre el dataframe `usos`. Utiliza el módulo `matplotlib.pyplot`."
   ]
  },
  {
   "cell_type": "code",
   "execution_count": 15,
   "metadata": {
    "id": "6d6wGqeDRt78"
   },
   "outputs": [
    {
     "name": "stdout",
     "output_type": "stream",
     "text": [
      "2023-02-01    4160.538500\n",
      "2023-02-02    3435.122333\n",
      "2023-02-03    3456.311667\n",
      "2023-02-04    3640.818667\n",
      "2023-02-05    3263.938167\n",
      "Name: trip_minutes, dtype: float64\n"
     ]
    },
    {
     "data": {
      "image/png": "[encoded data removed]",
      "text/plain": [
       "<Figure size 1000x600 with 1 Axes>"
      ]
     },
     "metadata": {},
     "output_type": "display_data"
    }
   ],
   "source": [
    "# Sol\n",
    "\n",
    "import matplotlib.dates as mdates\n",
    "\n",
    "\n",
    "def day_time(df: pd.DataFrame) -> pd.Series:\n",
    "    \"\"\"Calcula las horas totales de uso de bicicletas por día.\n",
    "    \n",
    "    Args:\n",
    "        df (pd.DataFrame): DataFrame con datos de uso de bicicletas.\n",
    "    \n",
    "    Returns:\n",
    "        pd.Series: Serie donde el índice es la fecha y el valor es el número de horas de uso.\n",
    "    \"\"\"\n",
    "    # Agrupar por fecha y sumar los minutos de viaje\n",
    "    daily_minutes = df['trip_minutes'].groupby(df.index.date).sum()\n",
    "    \n",
    "    # Convertir minutos a horas\n",
    "    daily_hours = daily_minutes / 60\n",
    "    \n",
    "    # Cambiar el índice a tipo datetime para facilitar el uso en gráficos\n",
    "    daily_hours.index = pd.to_datetime(daily_hours.index)\n",
    "    \n",
    "    return daily_hours\n",
    "\n",
    "# Probar la función con el DataFrame `usos`\n",
    "daily_hours_usage = day_time(usos)\n",
    "print(daily_hours_usage.head())\n",
    "\n",
    "# Opcional: Diagrama de barras con el uso diario de bicicletas en horas\n",
    "plt.figure(figsize=(10, 6))\n",
    "daily_hours_usage.plot(kind='bar', color='skyblue')\n",
    "plt.title(\"Horas Totales de Uso de Bicicletas por Día\")\n",
    "plt.xlabel(\"Fecha\")\n",
    "plt.ylabel(\"Horas de Uso\")\n",
    "plt.xticks(rotation=45)\n",
    "plt.tight_layout()\n",
    "plt.show()\n"
   ]
  },
  {
   "cell_type": "markdown",
   "metadata": {
    "id": "WR8sWYEARt7-"
   },
   "source": [
    "### C4\n",
    "\n",
    "Crea una función llamada `weekday_time` para calcular las horas totales de uso de bicicletas por día de la semana. La función recibe un dataframe y devuelve una Serie donde el índice es el día de la semana (L, M, X, J, V, S, D) y el valor es el número de horas.\n",
    "\n",
    "Prueba la función anterior con el dataframe usos.\n",
    "\n"
   ]
  },
  {
   "cell_type": "code",
   "execution_count": 16,
   "metadata": {
    "id": "Jn12PnM8Rt7-"
   },
   "outputs": [
    {
     "data": {
      "text/plain": [
       "weekday\n",
       "D     6267.562167\n",
       "J     9412.645333\n",
       "L     6494.488500\n",
       "M     5626.440667\n",
       "S     6781.029667\n",
       "V     8958.274000\n",
       "X    10349.659667\n",
       "Name: trip_minutes, dtype: float64"
      ]
     },
     "execution_count": 16,
     "metadata": {},
     "output_type": "execute_result"
    }
   ],
   "source": [
    "# Solución\n",
    "def weekday_time(df: pd.DataFrame) -> pd.Series:\n",
    "    \"\"\"Calcula las horas totales de uso de bicicletas por día de la semana.\n",
    "    \n",
    "    Args:\n",
    "        df (pd.DataFrame): DataFrame con datos de uso de bicicletas.\n",
    "    \n",
    "    Returns:\n",
    "        pd.Series: Serie donde el índice es el día de la semana (L, M, X, J, V, S, D)\n",
    "                   y el valor es el número de horas de uso.\n",
    "    \"\"\"\n",
    "    # Mapear los días de la semana a sus abreviaciones\n",
    "    day_map = {0: 'L', 1: 'M', 2: 'X', 3: 'J', 4: 'V', 5: 'S', 6: 'D'}\n",
    "    \n",
    "    # Agregar columna temporal con el día de la semana\n",
    "    df['weekday'] = df.index.dayofweek.map(day_map)\n",
    "    \n",
    "    # Agrupar por día de la semana y sumar los minutos de viaje\n",
    "    weekly_minutes = df.groupby('weekday')['trip_minutes'].sum()\n",
    "    \n",
    "    # Convertir minutos a horas\n",
    "    weekly_hours = weekly_minutes / 60\n",
    "    \n",
    "    return weekly_hours\n",
    "\n",
    "# Probar la función con el DataFrame `usos`\n",
    "weekday_hours_usage = weekday_time(usos)\n",
    "weekday_hours_usage"
   ]
  },
  {
   "cell_type": "markdown",
   "metadata": {
    "id": "fZsovUR3Rt7_"
   },
   "source": [
    "### C5\n",
    "\n",
    "Crea una función llamada `total_usage_day` para calcular el número total de usos de bicicletas por día del mes. La función recibe un dataframe y devuelve una Serie donde el índice es la fecha y el valor es el número de usos.\n",
    "\n",
    "Prueba la función anterior con el dataframe usos.\n",
    "\n"
   ]
  },
  {
   "cell_type": "code",
   "execution_count": 17,
   "metadata": {
    "id": "FiFDLZ_eRt7_"
   },
   "outputs": [
    {
     "data": {
      "text/plain": [
       "2023-02-01    11442\n",
       "2023-02-02    11069\n",
       "2023-02-03    10166\n",
       "2023-02-04     8903\n",
       "2023-02-05     8026\n",
       "2023-02-06    10118\n",
       "2023-02-07     8986\n",
       "2023-02-08    10576\n",
       "2023-02-09    10814\n",
       "2023-02-10    10579\n",
       "2023-02-11     8383\n",
       "2023-02-12     7801\n",
       "2023-02-13     9802\n",
       "2023-02-14    10341\n",
       "2023-02-15    10766\n",
       "2023-02-16     9684\n",
       "2023-02-17    10067\n",
       "2023-02-18      971\n",
       "dtype: int64"
      ]
     },
     "execution_count": 17,
     "metadata": {},
     "output_type": "execute_result"
    }
   ],
   "source": [
    "# Sol\n",
    "def total_usage_day(df: pd.DataFrame) -> pd.Series:\n",
    "    \"\"\"Calcula el número total de usos de bicicletas por día del mes.\n",
    "    \n",
    "    Args:\n",
    "        df (pd.DataFrame): DataFrame con datos de uso de bicicletas.\n",
    "    \n",
    "    Returns:\n",
    "        pd.Series: Serie donde el índice es la fecha y el valor es el número total de usos.\n",
    "    \"\"\"\n",
    "    # Agrupar por fecha (índice del DataFrame) y contar los usos de bicicletas\n",
    "    daily_usage = df.groupby(df.index.date).size()\n",
    "    \n",
    "    # Cambiar el índice a tipo datetime para una mejor manipulación\n",
    "    daily_usage.index = pd.to_datetime(daily_usage.index)\n",
    "    \n",
    "    return daily_usage\n",
    "\n",
    "# Probar la función con el DataFrame `usos`\n",
    "daily_usage_counts = total_usage_day(usos)\n",
    "daily_usage_counts"
   ]
  },
  {
   "cell_type": "markdown",
   "metadata": {
    "id": "E8vBxvOoRp-X"
   },
   "source": [
    "### C6\n",
    "\n",
    "Calcular el total de usos por fecha y estación de desbloqueo. Como la fecha está en el índice y la estación de desbloqueo es una columna, lo mejor es agrupar por la columna `station_unlock` y  un objeto `Grouper` de frecuencia diaria (1D).\n",
    "\n",
    "A continuación, se muestra un ejemplo del funcionamiento de la función Grouper de pandas:\n",
    "```\n",
    ">>> df\n",
    "             ID  Price\n",
    "2000-01-02   0     10\n",
    "2000-01-02   1     20\n",
    "2000-01-09   2     30\n",
    "2000-01-16   3     40\n",
    "\n",
    "# Grouper con frecuencia semanal (1W)\n",
    ">>> df.groupby(pd.Grouper(freq=\"1W\")).mean()\n",
    "               ID  Price\n",
    "\n",
    "2000-01-02    0.5   15.0\n",
    "2000-01-09    2.0   30.0\n",
    "2000-01-16    3.0   40.0\n",
    "```"
   ]
  },
  {
   "cell_type": "code",
   "execution_count": 18,
   "metadata": {
    "id": "1npzyihsRllj"
   },
   "outputs": [
    {
     "data": {
      "text/html": [
       "<div>\n",
       "<style scoped>\n",
       "    .dataframe tbody tr th:only-of-type {\n",
       "        vertical-align: middle;\n",
       "    }\n",
       "\n",
       "    .dataframe tbody tr th {\n",
       "        vertical-align: top;\n",
       "    }\n",
       "\n",
       "    .dataframe thead th {\n",
       "        text-align: right;\n",
       "    }\n",
       "</style>\n",
       "<table border=\"1\" class=\"dataframe\">\n",
       "  <thead>\n",
       "    <tr style=\"text-align: right;\">\n",
       "      <th></th>\n",
       "      <th>unlock_date</th>\n",
       "      <th>station_unlock</th>\n",
       "      <th>total_usos</th>\n",
       "    </tr>\n",
       "  </thead>\n",
       "  <tbody>\n",
       "    <tr>\n",
       "      <th>0</th>\n",
       "      <td>2023-02-01</td>\n",
       "      <td>1.0</td>\n",
       "      <td>31</td>\n",
       "    </tr>\n",
       "    <tr>\n",
       "      <th>1</th>\n",
       "      <td>2023-02-01</td>\n",
       "      <td>2.0</td>\n",
       "      <td>23</td>\n",
       "    </tr>\n",
       "    <tr>\n",
       "      <th>2</th>\n",
       "      <td>2023-02-01</td>\n",
       "      <td>3.0</td>\n",
       "      <td>39</td>\n",
       "    </tr>\n",
       "    <tr>\n",
       "      <th>3</th>\n",
       "      <td>2023-02-01</td>\n",
       "      <td>4.0</td>\n",
       "      <td>27</td>\n",
       "    </tr>\n",
       "    <tr>\n",
       "      <th>4</th>\n",
       "      <td>2023-02-01</td>\n",
       "      <td>5.0</td>\n",
       "      <td>26</td>\n",
       "    </tr>\n",
       "  </tbody>\n",
       "</table>\n",
       "</div>"
      ],
      "text/plain": [
       "  unlock_date  station_unlock  total_usos\n",
       "0  2023-02-01             1.0          31\n",
       "1  2023-02-01             2.0          23\n",
       "2  2023-02-01             3.0          39\n",
       "3  2023-02-01             4.0          27\n",
       "4  2023-02-01             5.0          26"
      ]
     },
     "execution_count": 18,
     "metadata": {},
     "output_type": "execute_result"
    }
   ],
   "source": [
    "# Solución\n",
    "def total_usage_by_date_and_station(df: pd.DataFrame) -> pd.DataFrame:\n",
    "    \"\"\"Calcula el total de usos de bicicletas por fecha y estación de desbloqueo.\n",
    "    \n",
    "    Args:\n",
    "        df (pd.DataFrame): DataFrame con datos de uso de bicicletas.\n",
    "    \n",
    "    Returns:\n",
    "        pd.DataFrame: DataFrame con el total de usos por fecha y estación de desbloqueo.\n",
    "    \"\"\"\n",
    "    # Agrupar por estación de desbloqueo y fecha (frecuencia diaria)\n",
    "    usage_by_date_station = df.groupby([pd.Grouper(freq=\"1D\"), 'station_unlock']).size()\n",
    "    \n",
    "    # Convertir el resultado a DataFrame y renombrar la columna\n",
    "    usage_by_date_station = usage_by_date_station.reset_index(name='total_usos')\n",
    "    \n",
    "    return usage_by_date_station\n",
    "\n",
    "# Probar la función con el DataFrame `usos`\n",
    "usage_by_date_station = total_usage_by_date_and_station(usos)\n",
    "usage_by_date_station.head()"
   ]
  },
  {
   "cell_type": "markdown",
   "metadata": {
    "id": "qwk5RM_fZSNx"
   },
   "source": [
    "### C7\n",
    "\n",
    "Se quiere averiguar la dirección de las estaciones de desbloqueo que a lo largo del mes han tenido un mayor número de viajes. Crear una función llamada `most_popular_stations` que calcule dicho dato. El argumento de la función es un dataframe y devuelve un conjunto con la dirección de las estaciones.\n",
    "\n"
   ]
  },
  {
   "cell_type": "code",
   "execution_count": 19,
   "metadata": {
    "id": "l9ir9mpDRndL"
   },
   "outputs": [
    {
     "name": "stdout",
     "output_type": "stream",
     "text": [
      "Direcciones de las estaciones de desbloqueo más populares: {\"'Plaza de la Cebada nº 16 '\"}\n"
     ]
    }
   ],
   "source": [
    "# Sol\n",
    "def most_popular_stations(df: pd.DataFrame) -> set:\n",
    "    \"\"\"Calcula las direcciones de las estaciones de desbloqueo con el mayor número de viajes en el mes.\n",
    "    \n",
    "    Args:\n",
    "        df (pd.DataFrame): DataFrame con datos de uso de bicicletas.\n",
    "    \n",
    "    Returns:\n",
    "        set: Conjunto con las direcciones de las estaciones de desbloqueo más populares.\n",
    "    \"\"\"\n",
    "    # Agrupar por dirección de desbloqueo y contar el número de viajes\n",
    "    station_usage = df.groupby('address_unlock').size()\n",
    "    \n",
    "    # Encontrar el máximo número de viajes\n",
    "    max_usage = station_usage.max()\n",
    "    \n",
    "    # Filtrar las direcciones con el número máximo de viajes y convertir a un conjunto\n",
    "    popular_stations = set(station_usage[station_usage == max_usage].index)\n",
    "    \n",
    "    return popular_stations\n",
    "\n",
    "# Probar la función con el DataFrame `usos`\n",
    "popular_stations = most_popular_stations(usos)\n",
    "print(\"Direcciones de las estaciones de desbloqueo más populares:\", popular_stations)"
   ]
  },
  {
   "cell_type": "markdown",
   "metadata": {
    "id": "zgsXCHqhGqTF"
   },
   "source": [
    "### C8\n",
    "\n",
    "Se quiere averiguar el  número de usos de las estaciones de desbloqueo que a lo largo del mes ha tenido un mayor número de viajes. Crear una función llamada `usage_from_most_popular_station` que calcule dicho dato. El argumento de la función es un dataframe y devuelve un entero."
   ]
  },
  {
   "cell_type": "code",
   "execution_count": 20,
   "metadata": {
    "id": "ErFkNzBnG56I"
   },
   "outputs": [
    {
     "name": "stdout",
     "output_type": "stream",
     "text": [
      "Número total de usos de las estaciones más populares: 2189\n"
     ]
    }
   ],
   "source": [
    "# Sol\n",
    "def usage_from_most_popular_station(df: pd.DataFrame) -> int:\n",
    "    \"\"\"Calcula el número total de usos de las estaciones de desbloqueo con el mayor número de viajes en el mes.\n",
    "    \n",
    "    Args:\n",
    "        df (pd.DataFrame): DataFrame con datos de uso de bicicletas.\n",
    "    \n",
    "    Returns:\n",
    "        int: Número total de usos de las estaciones más populares.\n",
    "    \"\"\"\n",
    "    # Agrupar por dirección de desbloqueo y contar el número de viajes\n",
    "    station_usage = df.groupby('address_unlock').size()\n",
    "    \n",
    "    # Encontrar el máximo número de viajes\n",
    "    max_usage = station_usage.max()\n",
    "    \n",
    "    # Calcular el número total de usos de las estaciones más populares\n",
    "    total_usage = station_usage[station_usage == max_usage].sum()\n",
    "    \n",
    "    return total_usage\n",
    "\n",
    "# Probar la función con el DataFrame `usos`\n",
    "total_usage_popular_stations = usage_from_most_popular_station(usos)\n",
    "print(\"Número total de usos de las estaciones más populares:\", total_usage_popular_stations)"
   ]
  },
  {
   "cell_type": "markdown",
   "metadata": {
    "id": "JfW0nwRk63uY"
   },
   "source": [
    "# ETAPA 2: Construcción del módulo bicimad\n",
    "\n",
    "En esta sección se proporcionan algunas instrucciones para la creación del módulo `bicimad`.\n",
    "La gran mayoría de métodos y funciones pedidas aquí, se han implementado de alguna manera en la sección anterior, por lo que la construcción del módulo y las clases que se pide a continuación es en gran medida una reorganización de código. El módulo `bicimad` debe exportar las clases `UrlEMT` y `BiciMad` descritas a continuación."
   ]
  },
  {
   "cell_type": "markdown",
   "metadata": {
    "id": "Y4Nl4HKTRt7_"
   },
   "source": [
    "\n",
    "\n",
    "## Clase `UrlEMT`\n",
    "\n",
    "Vamos a crear una clase que permita recopilar todos los enlaces que hay en la web de la EMT (https://opendata.emtmadrid.es/Datos-estaticos/Datos-generales-(1)), que se corresponden con datos de uso de bicicletas desde Junio de 2021. Los enlaces que cumplen esta restricción son los que denominaremos a partir de ahora _enlaces válidos_. Estos enlaces contienen la cadena `trips_YY_MM_monthName.csv` donde `YY` representa el año, `MM` representa el mes y `monthName` representa el nombre del mes en inglés.\n",
    "\n",
    "\n",
    "__Requisitos:__\n",
    "\n",
    "* La clase ha de contener dos constantes de clase:\n",
    "```\n",
    "EMT = 'https://opendata.emtmadrid.es/'\n",
    "GENERAL = \"/Datos-estaticos/Datos-generales-(1)\"\n",
    "```\n",
    "\n",
    "* Los objetos de la clase tienen un único atributo privado que representa el conjunto enlaces válidos que se encuentran en el sitio web de la EMT.\n",
    "\n",
    "* Ha de contener al menos los siguientes métodos:\n",
    "\n",
    "    * `__init__`: método constructor sin argumentos.\n",
    "    * `select_valid_urls`: método estático que se encarga de actualizar el atributo de los objetos de la clase. Devuelve un conjunto de enlaces válidos. Si la petición al servidor de la EMT devuelve un código de retorno distinto de 200, la función lanza una excepción de tipo `ConnectionError`.\n",
    "    \n",
    "    * Para extraer los enlaces hay que definir una funcion `get_links` que tome como parámetros un texto HTML y devuelva un conjunto con todos los enlaces.\n",
    "    Esta función debe usar expresiones regulares para encontrar los enlaces.\n",
    "\n",
    "    * `get_url`: método de instancia que acepta los argumentos de tipo entero `month` y `year` y devuelve el string de la URL correspondiente al mes `month` y año `year`.  Si no existe un enlace válido correspondiente al mes `month` y año `year`, se lanzará una excepción de tipo `ValueError`. Se deberá comprobar que el mes y año se corresponden con valores válidos (`month` entre 1 y 12, `year` entre 21 y 23).\n",
    "\n",
    "    * `get_csv`: método de instancia que acepta los argumentos de tipo entero `month` y `year` y devuelve  un fichero en formato CSV correspondiente al mes `month` y año `year`.\n",
    "     El tipo del objeto devuelto es TextIO. La función lanzará una excepción de tipo `ConnectionError` en caso de que falle la petición al servidor de la EMT. En este caso, se podrá aprovechar el código de la función `csv_from_ZIP` implementada en la sección anterior.\n",
    "\n"
   ]
  },
  {
   "cell_type": "code",
   "execution_count": 21,
   "metadata": {
    "id": "IXNX5qz7_aNc"
   },
   "outputs": [],
   "source": [
    "import requests\n",
    "import re\n",
    "import zipfile\n",
    "import io\n",
    "from typing import Set, TextIO\n",
    "\n",
    "class UrlEMT:\n",
    "    EMT = 'https://opendata.emtmadrid.es'\n",
    "    GENERAL = \"/Datos-estaticos/Datos-generales-(1)\"\n",
    "\n",
    "    def __init__(self):\n",
    "        \"\"\"Constructor que inicializa el atributo privado para almacenar enlaces válidos.\"\"\"\n",
    "        self._valid_urls = set()\n",
    "\n",
    "    @staticmethod\n",
    "    def get_links(html_text: str) -> Set[str]:\n",
    "        \"\"\"Extrae todos los enlaces de un texto HTML usando expresiones regulares.\n",
    "        \n",
    "        Args:\n",
    "            html_text (str): Texto HTML desde el cual se extraen los enlaces.\n",
    "        \n",
    "        Returns:\n",
    "            Set[str]: Conjunto de enlaces extraídos.\n",
    "        \"\"\"\n",
    "        # Usamos una expresión regular para extraer todos los enlaces\n",
    "        return set(re.findall(r'https://[^\\s\"\\']+trips_\\d{2}_\\d{2}_[A-Za-z]+\\.csv\\.aspx', html_text))\n",
    "\n",
    "    @staticmethod\n",
    "    def select_valid_urls() -> Set[str]:\n",
    "        \"\"\"Obtiene el conjunto de enlaces válidos del sitio de la EMT.\n",
    "        \n",
    "        Returns:\n",
    "            Set[str]: Conjunto de enlaces válidos que cumplen con el formato de uso de bicicletas.\n",
    "        \n",
    "        Raises:\n",
    "            ConnectionError: Si la petición al servidor de la EMT falla.\n",
    "        \"\"\"\n",
    "        url = UrlEMT.EMT + UrlEMT.GENERAL\n",
    "        response = requests.get(url)\n",
    "        \n",
    "        # Verificar respuesta exitosa\n",
    "        if response.status_code != 200:\n",
    "            raise ConnectionError(\"Fallo en la conexión al servidor de la EMT.\")\n",
    "\n",
    "        # Extraer enlaces válidos\n",
    "        valid_urls = UrlEMT.get_links(response.text)\n",
    "        return valid_urls\n",
    "\n",
    "    def get_url(self, month: int, year: int) -> str:\n",
    "        \"\"\"Devuelve el enlace válido para el mes y año dados.\n",
    "        \n",
    "        Args:\n",
    "            month (int): Mes (1-12).\n",
    "            year (int): Año (21-23).\n",
    "        \n",
    "        Returns:\n",
    "            str: Enlace correspondiente al mes y año especificados.\n",
    "        \n",
    "        Raises:\n",
    "            ValueError: Si no existe un enlace válido para el mes y año especificados.\n",
    "        \"\"\"\n",
    "        if month < 1 or month > 12 or year < 21 or year > 23:\n",
    "            raise ValueError(\"Mes o año fuera de rango (mes: 1-12, año: 21-23).\")\n",
    "\n",
    "        # Formatear mes y año para buscar en los enlaces\n",
    "        month_str = f\"{month:02d}\"\n",
    "        year_str = f\"{year:02d}\"\n",
    "        \n",
    "        # Buscar un enlace que coincida con el patrón\n",
    "        for url in self._valid_urls:\n",
    "            if f\"trips_{year_str}_{month_str}\" in url:\n",
    "                return url\n",
    "        \n",
    "        # Si no se encuentra un enlace válido\n",
    "        raise ValueError(\"No se encontró un enlace válido para el mes y año especificados.\")\n",
    "\n",
    "    def get_csv(self, month: int, year: int) -> TextIO:\n",
    "        \"\"\"Descarga y extrae el archivo CSV para el mes y año especificados.\n",
    "        \n",
    "        Args:\n",
    "            month (int): Mes (1-12).\n",
    "            year (int): Año (21-23).\n",
    "        \n",
    "        Returns:\n",
    "            TextIO: Archivo de texto en formato CSV extraído del ZIP.\n",
    "        \n",
    "        Raises:\n",
    "            ConnectionError: Si la petición al servidor de la EMT falla.\n",
    "        \"\"\"\n",
    "        # Obtener la URL correspondiente al mes y año\n",
    "        url = self.get_url(month, year)\n",
    "        \n",
    "        # Descargar el archivo ZIP\n",
    "        response = requests.get(url)\n",
    "        if response.status_code != 200:\n",
    "            raise ConnectionError(\"Fallo en la conexión al servidor de la EMT.\")\n",
    "        \n",
    "        # Leer el archivo ZIP en memoria y extraer el CSV\n",
    "        zip_file = zipfile.ZipFile(io.BytesIO(response.content))\n",
    "        csv_filename = [name for name in zip_file.namelist() if name.endswith('.csv')][0]\n",
    "        with zip_file.open(csv_filename) as csv_file:\n",
    "            csv_text = io.StringIO(csv_file.read().decode('utf-8'))\n",
    "        \n",
    "        return csv_text\n"
   ]
  },
  {
   "cell_type": "markdown",
   "metadata": {
    "id": "qM3xGpt5Rt8A"
   },
   "source": [
    "\n",
    "## Clase `BiciMad`\n",
    "\n",
    "Vamos a crear una clase que represente los datos de uso de las bicicletas eléctricas en un mes concreto, junto con las operaciones necesarias para realizar la limpieza y el análisis básico que hemos realizado anteriormente.\n",
    "\n",
    "__Requisitos:__\n",
    "\n",
    "* Los objetos de la clase tienen  tres atributos privados que representan el mes, el año y los datos de uso extraídos de un fichero csv y representados mediante un dataframe de pandas.\n",
    "\n",
    "* Ha de contener al menos los siguientes métodos:\n",
    "\n",
    "    * `__init__`: método constructor. Acepta los argumentos de tipo entero `month` y `year`. El atributo que representa los datos, se actualiza al construir el objeto mediante el método estático `get_data`.\n",
    "    * `get_data`: método estático que acepta los argumentos de tipo entero `month` y `year` y devuelve un objeto de tipo DataFrame con los datos de uso correspondientes al mes `month` y año  `year`. El índice del dataframe debe ser la fecha en la que tuvo lugar el viaje. Todas las fechas que aparecen en los datos ha de tener tipo `datetime`.  Las únicas columnas que tiene que tener el DataFrames son:\n",
    "\n",
    "    ```\n",
    "    [ 'idBike', 'fleet', 'trip_minutes', 'geolocation_unlock', 'address_unlock', 'unlock_date', 'locktype', 'unlocktype', 'geolocation_lock', 'address_lock', 'lock_date', 'station_unlock',\n",
    "    'unlock_station_name', 'station_lock', 'lock_station_name']\n",
    "    ```\n",
    "    * `data`: método decorado con el decorador `@property` para acceder al atributo que representa los datos de uso. El atributo ha de llamarse igual.\n",
    "    * `__str__`: método especial que permite la representación informal del objeto. Su comportamiento es idéntico al método `__str__` de los objetos de la clase DataFrame.\n",
    "    * `clean`: método de instancia que se encarga de realizar la limpieza  y transformación del dataframe que representa los datos. Modifica el dataframe y no devuelve nada. Realiza las siguientes tareas:\n",
    "        * Borrado de valores NaN. Borrar las filas con todos sus valores NaN.\n",
    "        * Cambiar el tipo de datos de las siguientes columnas del dataframe: `fleet`, `idBike`, `station_lock`, `station_unlock`. Dichas columnas han de ser de tipo `str`.\n",
    "        \n",
    "    En este caso, podrás aprovechar el código ya implementado en la sección anterior.\n",
    "    * `resume`: método de instancia que devuelve un objeto de tipo Series con las siguientes restricciones:\n",
    "        * el índice está formado con las etiquetas:\n",
    "            'year', 'month',                                 'total_uses', 'total_time', 'most_popular_station', 'uses_from_most_popular'\n",
    "        * los valores son: el año, el mes, el total de usos en dicho mes, el total de horas en dicho mes, el conjunto de estaciones de bloqueo con mayor número de usos y el número de usos de dichas estaciones.\n",
    "\n",
    "    En este caso podrás aprovechar el código de las funciones implementadas en la sección de consultas.\n",
    "\n",
    "\n",
    "## Tests\n",
    "\n",
    "Define los tests que creas necesarios para comprobar que las clases funcionan correctamente. Los tests deberán estar en un directorio independiente, dentro del proyecto, pero no en el paquete que se distribuye.\n",
    "\n",
    "## Cuaderno de jupyter\n",
    "\n",
    "Además del proyecto, se deberá incluir un cuaderno jupyter con las consultas de la ETAPA 1. Pero en lugar de utilizar las funciones que se indican en ella, deberá usar la clase `Bicimad`.\n",
    "\n",
    "# Entrega\n",
    "La entrega consistirá en un fichero comprimido `zip` con lo siguiente:\n",
    "- Fichero `whl` con el instalable del paquete generado\n",
    "- Los ficheros del paquete desarrollado, incluyendo los tests.\n",
    "- El cuaderno de jupyter con las consultas C1-C8 de la Etapa 1, usando la clase `BiciMad`\n",
    "\n",
    "# Criterios de la corrección\n",
    "Horas previstas para la realización de la práctica 15 horas.\n",
    "\n",
    "- Correcto funcionamiento de las clases 40%\n",
    "- Buena elección de tests para comprobar las clases 20%\n",
    "- Correcta generación del paquete `whl` 10%\n",
    "- Correcta documentación de las clases, métodos y funciones 10%\n",
    "- Cuaderno jupyter 10%"
   ]
  },
  {
   "cell_type": "markdown",
   "metadata": {
    "id": "1TG8pw83_aNc"
   },
   "source": [
    "------------------"
   ]
  },
  {
   "cell_type": "code",
   "execution_count": 32,
   "metadata": {
    "scrolled": true
   },
   "outputs": [
    {
     "name": "stdout",
     "output_type": "stream",
     "text": [
      "Processing c:\\proyecto_bicimad\n",
      "  Preparing metadata (setup.py): started\n",
      "  Preparing metadata (setup.py): finished with status 'done'\n",
      "Requirement already satisfied: e in c:\\proyecto_bicimad\\venv\\lib\\site-packages (1.4.5)\n",
      "Requirement already satisfied: pandas>=1.0.0 in c:\\proyecto_bicimad\\venv\\lib\\site-packages (from bicimad==1.0.0) (2.2.3)\n",
      "Requirement already satisfied: requests>=2.0.0 in c:\\proyecto_bicimad\\venv\\lib\\site-packages (from bicimad==1.0.0) (2.32.3)\n",
      "Requirement already satisfied: numpy>=1.23.2 in c:\\proyecto_bicimad\\venv\\lib\\site-packages (from pandas>=1.0.0->bicimad==1.0.0) (2.1.2)\n",
      "Requirement already satisfied: python-dateutil>=2.8.2 in c:\\proyecto_bicimad\\venv\\lib\\site-packages (from pandas>=1.0.0->bicimad==1.0.0) (2.9.0.post0)\n",
      "Requirement already satisfied: pytz>=2020.1 in c:\\proyecto_bicimad\\venv\\lib\\site-packages (from pandas>=1.0.0->bicimad==1.0.0) (2024.2)\n",
      "Requirement already satisfied: tzdata>=2022.7 in c:\\proyecto_bicimad\\venv\\lib\\site-packages (from pandas>=1.0.0->bicimad==1.0.0) (2024.2)\n",
      "Requirement already satisfied: charset-normalizer<4,>=2 in c:\\proyecto_bicimad\\venv\\lib\\site-packages (from requests>=2.0.0->bicimad==1.0.0) (3.4.0)\n",
      "Requirement already satisfied: idna<4,>=2.5 in c:\\proyecto_bicimad\\venv\\lib\\site-packages (from requests>=2.0.0->bicimad==1.0.0) (3.10)\n",
      "Requirement already satisfied: urllib3<3,>=1.21.1 in c:\\proyecto_bicimad\\venv\\lib\\site-packages (from requests>=2.0.0->bicimad==1.0.0) (2.2.3)\n",
      "Requirement already satisfied: certifi>=2017.4.17 in c:\\proyecto_bicimad\\venv\\lib\\site-packages (from requests>=2.0.0->bicimad==1.0.0) (2024.8.30)\n",
      "Requirement already satisfied: six>=1.5 in c:\\proyecto_bicimad\\venv\\lib\\site-packages (from python-dateutil>=2.8.2->pandas>=1.0.0->bicimad==1.0.0) (1.16.0)\n",
      "Building wheels for collected packages: bicimad\n",
      "  Building wheel for bicimad (setup.py): started\n",
      "  Building wheel for bicimad (setup.py): finished with status 'done'\n",
      "  Created wheel for bicimad: filename=bicimad-1.0.0-py3-none-any.whl size=5232 sha256=d14f91cc96c4b0ebd35a177786211077e7602882a65f756d10c1548b772f65cd\n",
      "  Stored in directory: C:\\Users\\super\\AppData\\Local\\Temp\\pip-ephem-wheel-cache-0ix19g5x\\wheels\\b1\\94\\1c\\8d791fe98cac586dca2b4c31635d3a4e0a97dbd694618a983c\n",
      "Successfully built bicimad\n",
      "Installing collected packages: bicimad\n",
      "  Attempting uninstall: bicimad\n",
      "    Found existing installation: bicimad 1.0.0\n",
      "    Uninstalling bicimad-1.0.0:\n",
      "      Successfully uninstalled bicimad-1.0.0\n",
      "Successfully installed bicimad-1.0.0\n",
      "Note: you may need to restart the kernel to use updated packages.\n"
     ]
    },
    {
     "name": "stderr",
     "output_type": "stream",
     "text": [
      "\n",
      "[notice] A new release of pip is available: 23.1.2 -> 24.3.1\n",
      "[notice] To update, run: python.exe -m pip install --upgrade pip\n"
     ]
    }
   ],
   "source": [
    "pip install e .."
   ]
  },
  {
   "cell_type": "code",
   "execution_count": 37,
   "metadata": {
    "scrolled": true
   },
   "outputs": [
    {
     "name": "stdout",
     "output_type": "stream",
     "text": [
      "Descargando archivo desde: https://opendata.emtmadrid.es/getattachment/7a88cb04-9007-4520-88c5-a94c71a0b925/trips_23_02_February-csv.aspx\n",
      "Archivo CSV descargado exitosamente.\n",
      "                     idBike  fleet  trip_minutes  \\\n",
      "unlock_date                                        \n",
      "NaT                     NaN    NaN           NaN   \n",
      "2023-02-01 00:00:10  7337.0    1.0          5.52   \n",
      "NaT                     NaN    NaN           NaN   \n",
      "2023-02-01 00:00:25  5098.0    1.0          0.32   \n",
      "NaT                     NaN    NaN           NaN   \n",
      "\n",
      "                                                    geolocation_unlock  \\\n",
      "unlock_date                                                              \n",
      "NaT                                                                NaN   \n",
      "2023-02-01 00:00:10  {'type': 'Point', 'coordinates': [-3.6956178, ...   \n",
      "NaT                                                                NaN   \n",
      "2023-02-01 00:00:25  {'type': 'Point', 'coordinates': [-3.7022591, ...   \n",
      "NaT                                                                NaN   \n",
      "\n",
      "                                     address_unlock locktype unlocktype  \\\n",
      "unlock_date                                                               \n",
      "NaT                                             NaN      NaN        NaN   \n",
      "2023-02-01 00:00:10              'Calle Jesús nº 1'  STATION    STATION   \n",
      "NaT                                             NaN      NaN        NaN   \n",
      "2023-02-01 00:00:25  'Glorieta de Embajadores nº 2'  STATION    STATION   \n",
      "NaT                                             NaN      NaN        NaN   \n",
      "\n",
      "                                                      geolocation_lock  \\\n",
      "unlock_date                                                              \n",
      "NaT                                                                NaN   \n",
      "2023-02-01 00:00:10  {'type': 'Point', 'coordinates': [-3.7088337, ...   \n",
      "NaT                                                                NaN   \n",
      "2023-02-01 00:00:25  {'type': 'Point', 'coordinates': [-3.7022591, ...   \n",
      "NaT                                                                NaN   \n",
      "\n",
      "                                       address_lock           lock_date  \\\n",
      "unlock_date                                                               \n",
      "NaT                                             NaN                 NaT   \n",
      "2023-02-01 00:00:10     'Plaza de la Cebada nº 16 ' 2023-02-01 00:05:41   \n",
      "NaT                                             NaN                 NaT   \n",
      "2023-02-01 00:00:25  'Glorieta de Embajadores nº 2' 2023-02-01 00:00:44   \n",
      "NaT                                             NaN                 NaT   \n",
      "\n",
      "                     station_unlock unlock_station_name  station_lock  \\\n",
      "unlock_date                                                             \n",
      "NaT                             NaN                 NaN           NaN   \n",
      "2023-02-01 00:00:10            31.0        27 - Huertas          43.0   \n",
      "NaT                             NaN                 NaN           NaN   \n",
      "2023-02-01 00:00:25            52.0  48 - Embajadores 2          52.0   \n",
      "NaT                             NaN                 NaN           NaN   \n",
      "\n",
      "                           lock_station_name  \n",
      "unlock_date                                   \n",
      "NaT                                      NaN  \n",
      "2023-02-01 00:00:10  39 - Plaza de la Cebada  \n",
      "NaT                                      NaN  \n",
      "2023-02-01 00:00:25       48 - Embajadores 2  \n",
      "NaT                                      NaN  \n"
     ]
    }
   ],
   "source": [
    "from bicimad.bicimad import BiciMad\n",
    "\n",
    "# Crear una instancia de BiciMad para enero de 2023\n",
    "bicimad_instance = BiciMad(month=2, year=23)\n",
    "\n",
    "# Imprime las primeras filas para verificar la carga\n",
    "print(bicimad_instance.data.head())\n"
   ]
  },
  {
   "cell_type": "code",
   "execution_count": 38,
   "metadata": {},
   "outputs": [
    {
     "name": "stdout",
     "output_type": "stream",
     "text": [
      "Número de bicicletas desbloqueadas sin bloqueo registrado: 168\n"
     ]
    }
   ],
   "source": [
    "# C1\n",
    "# Filtra los datos para contar las bicicletas desbloqueadas sin bloqueo registrado\n",
    "unlocked_no_lock = bicimad_instance.data[\n",
    "    (bicimad_instance.data['station_unlock'].notna()) & \n",
    "    (bicimad_instance.data['station_lock'].isna())\n",
    "]\n",
    "\n",
    "# Cuenta el número total de bicicletas que cumplen esta condición\n",
    "count_unlocked_no_lock = len(unlocked_no_lock)\n",
    "print(\"Número de bicicletas desbloqueadas sin bloqueo registrado:\", count_unlocked_no_lock)"
   ]
  },
  {
   "cell_type": "code",
   "execution_count": 42,
   "metadata": {},
   "outputs": [
    {
     "name": "stdout",
     "output_type": "stream",
     "text": [
      "Bicicletas del tipo de flota '1':\n",
      "                     idBike  fleet  trip_minutes  \\\n",
      "unlock_date                                        \n",
      "2023-02-01 00:00:10  7337.0    1.0          5.52   \n",
      "2023-02-01 00:00:25  5098.0    1.0          0.32   \n",
      "2023-02-01 00:00:36  6519.0    1.0          0.27   \n",
      "2023-02-01 00:00:53  2551.0    1.0          8.58   \n",
      "2023-02-01 00:00:57  6519.0    1.0          0.20   \n",
      "...                     ...    ...           ...   \n",
      "2023-02-18 04:25:31  7492.0    1.0          1.33   \n",
      "2023-02-18 04:27:30  5538.0    1.0          9.48   \n",
      "2023-02-18 04:39:38  6473.0    1.0          0.47   \n",
      "2023-02-18 04:42:50  5252.0    1.0          7.43   \n",
      "2023-02-18 07:22:48  3077.0    1.0          0.12   \n",
      "\n",
      "                                                    geolocation_unlock  \\\n",
      "unlock_date                                                              \n",
      "2023-02-01 00:00:10  {'type': 'Point', 'coordinates': [-3.6956178, ...   \n",
      "2023-02-01 00:00:25  {'type': 'Point', 'coordinates': [-3.7022591, ...   \n",
      "2023-02-01 00:00:36  {'type': 'Point', 'coordinates': [-3.6894193, ...   \n",
      "2023-02-01 00:00:53  {'type': 'Point', 'coordinates': [-3.7022591, ...   \n",
      "2023-02-01 00:00:57  {'type': 'Point', 'coordinates': [-3.6894193, ...   \n",
      "...                                                                ...   \n",
      "2023-02-18 04:25:31  {'type': 'Point', 'coordinates': [-3.7065376, ...   \n",
      "2023-02-18 04:27:30  {'type': 'Point', 'coordinates': [-3.7065376, ...   \n",
      "2023-02-18 04:39:38  {'type': 'Point', 'coordinates': [-3.6726019, ...   \n",
      "2023-02-18 04:42:50  {'type': 'Point', 'coordinates': [-3.690358964...   \n",
      "2023-02-18 07:22:48  {'type': 'Point', 'coordinates': [-3.6933498, ...   \n",
      "\n",
      "                                     address_unlock locktype unlocktype  \\\n",
      "unlock_date                                                               \n",
      "2023-02-01 00:00:10              'Calle Jesús nº 1'  STATION    STATION   \n",
      "2023-02-01 00:00:25  'Glorieta de Embajadores nº 2'  STATION    STATION   \n",
      "2023-02-01 00:00:36     'Calle Antonio Maura nº 15'  STATION    STATION   \n",
      "2023-02-01 00:00:53  'Glorieta de Embajadores nº 2'  STATION    STATION   \n",
      "2023-02-01 00:00:57     'Calle Antonio Maura nº 15'  STATION    STATION   \n",
      "...                                             ...      ...        ...   \n",
      "2023-02-18 04:25:31        'Calle Jacometrezo nº 3'  STATION    STATION   \n",
      "2023-02-18 04:27:30        'Calle Jacometrezo nº 3'  STATION    STATION   \n",
      "2023-02-18 04:39:38  'Calle Doctor Esquerdo nº 191'  STATION    STATION   \n",
      "2023-02-18 04:42:50             'Calle Sodio nº 1B'  STATION    STATION   \n",
      "2023-02-18 07:22:48                 'Plaza Cibeles'  STATION    STATION   \n",
      "\n",
      "                                                      geolocation_lock  \\\n",
      "unlock_date                                                              \n",
      "2023-02-01 00:00:10  {'type': 'Point', 'coordinates': [-3.7088337, ...   \n",
      "2023-02-01 00:00:25  {'type': 'Point', 'coordinates': [-3.7022591, ...   \n",
      "2023-02-01 00:00:36  {'type': 'Point', 'coordinates': [-3.6894193, ...   \n",
      "2023-02-01 00:00:53  {'type': 'Point', 'coordinates': [-3.6991147, ...   \n",
      "2023-02-01 00:00:57  {'type': 'Point', 'coordinates': [-3.6894193, ...   \n",
      "...                                                                ...   \n",
      "2023-02-18 04:25:31  {'type': 'Point', 'coordinates': [-3.7065376, ...   \n",
      "2023-02-18 04:27:30  {'type': 'Point', 'coordinates': [-3.7074453, ...   \n",
      "2023-02-18 04:39:38  {'type': 'Point', 'coordinates': [-3.6726019, ...   \n",
      "2023-02-18 04:42:50  {'type': 'Point', 'coordinates': [-3.7064516, ...   \n",
      "2023-02-18 07:22:48  {'type': 'Point', 'coordinates': [-3.6933498, ...   \n",
      "\n",
      "                                         address_lock           lock_date  \\\n",
      "unlock_date                                                                 \n",
      "2023-02-01 00:00:10       'Plaza de la Cebada nº 16 ' 2023-02-01 00:05:41   \n",
      "2023-02-01 00:00:25    'Glorieta de Embajadores nº 2' 2023-02-01 00:00:44   \n",
      "2023-02-01 00:00:36       'Calle Antonio Maura nº 15' 2023-02-01 00:00:52   \n",
      "2023-02-01 00:00:53              'Calle Atocha nº 54' 2023-02-01 00:09:28   \n",
      "2023-02-01 00:00:57       'Calle Antonio Maura nº 15' 2023-02-01 00:01:09   \n",
      "...                                               ...                 ...   \n",
      "2023-02-18 04:25:31          'Calle Jacometrezo nº 3' 2023-02-18 04:26:51   \n",
      "2023-02-18 04:27:30  'Calle San Vicente Ferrer nº 64' 2023-02-18 04:36:59   \n",
      "2023-02-18 04:39:38    'Calle Doctor Esquerdo nº 191' 2023-02-18 04:40:06   \n",
      "2023-02-18 04:42:50      'Paseo de la Esperanza nº 2' 2023-02-18 04:50:16   \n",
      "2023-02-18 07:22:48                   'Plaza Cibeles' 2023-02-18 07:22:55   \n",
      "\n",
      "                     station_unlock    unlock_station_name  station_lock  \\\n",
      "unlock_date                                                                \n",
      "2023-02-01 00:00:10            31.0           27 - Huertas          43.0   \n",
      "2023-02-01 00:00:25            52.0     48 - Embajadores 2          52.0   \n",
      "2023-02-01 00:00:36            69.0     65 - Antonio Maura          69.0   \n",
      "2023-02-01 00:00:53            52.0     48 - Embajadores 2          45.0   \n",
      "2023-02-01 00:00:57            69.0     65 - Antonio Maura          69.0   \n",
      "...                             ...                    ...           ...   \n",
      "2023-02-18 04:25:31            25.0       22 - Jacometrezo          25.0   \n",
      "2023-02-18 04:27:30            25.0       22 - Jacometrezo          16.0   \n",
      "2023-02-18 04:39:38            89.0       84 - Valderribas          89.0   \n",
      "2023-02-18 04:42:50           243.0  235 - Embajadores 191         134.0   \n",
      "2023-02-18 07:22:48            91.0           86 - Cibeles          91.0   \n",
      "\n",
      "                               lock_station_name  \n",
      "unlock_date                                       \n",
      "2023-02-01 00:00:10      39 - Plaza de la Cebada  \n",
      "2023-02-01 00:00:25           48 - Embajadores 2  \n",
      "2023-02-01 00:00:36           65 - Antonio Maura  \n",
      "2023-02-01 00:00:53            41 - Antón Martín  \n",
      "2023-02-01 00:00:57           65 - Antonio Maura  \n",
      "...                                          ...  \n",
      "2023-02-18 04:25:31             22 - Jacometrezo  \n",
      "2023-02-18 04:27:30      15 - San Vicente Ferrer  \n",
      "2023-02-18 04:39:38             84 - Valderribas  \n",
      "2023-02-18 04:42:50  163 - Paseo de la Esperanza  \n",
      "2023-02-18 07:22:48                 86 - Cibeles  \n",
      "\n",
      "[167692 rows x 14 columns]\n"
     ]
    }
   ],
   "source": [
    "# Solución para C2\n",
    "regular_fleet = bicimad_instance.data[bicimad_instance.data['fleet'] == 1.0]\n",
    "\n",
    "# Muestra el resultado\n",
    "print(\"Bicicletas del tipo de flota '1':\")\n",
    "print(regular_fleet)"
   ]
  },
  {
   "cell_type": "code",
   "execution_count": null,
   "metadata": {},
   "outputs": [],
   "source": [
    "# Solución para C3\n",
    "def day_time(df: pd.DataFrame) -> pd.Series:\n",
    "    \"\"\"Calcula las horas totales de uso de bicicletas por día del mes.\"\"\"\n",
    "    hours_per_day = df.groupby(df.index.date)['trip_minutes'].sum() / 60  # Convertir minutos a horas\n",
    "    return hours_per_day\n",
    "\n",
    "# Uso\n",
    "horas_por_dia = day_time(bicimad_instance.data)\n",
    "print(\"Horas totales de uso por día:\")\n",
    "print(horas_por_dia)\n",
    "\n",
    "# Diagrama de barras (opcional)\n",
    "import matplotlib.pyplot as plt\n",
    "\n",
    "horas_por_dia.plot(kind='bar', figsize=(10, 5))\n",
    "plt.title(\"Horas totales de uso por día\")\n",
    "plt.xlabel(\"Día\")\n",
    "plt.ylabel(\"Horas\")\n",
    "plt.show()\n"
   ]
  },
  {
   "cell_type": "code",
   "execution_count": null,
   "metadata": {},
   "outputs": [],
   "source": [
    "# Solución para C4\n",
    "def weekday_time(df: pd.DataFrame) -> pd.Series:\n",
    "    \"\"\"Calcula las horas totales de uso de bicicletas por día de la semana.\"\"\"\n",
    "    df['weekday'] = df.index.weekday  # 0 = Lunes, 6 = Domingo\n",
    "    hours_per_weekday = df.groupby('weekday')['trip_minutes'].sum() / 60  # Convertir minutos a horas\n",
    "    return hours_per_weekday\n",
    "\n",
    "# Uso\n",
    "horas_por_dia_semana = weekday_time(bicimad_instance.data)\n",
    "print(\"Horas totales de uso por día de la semana:\")\n",
    "print(horas_por_dia_semana)\n"
   ]
  },
  {
   "cell_type": "code",
   "execution_count": null,
   "metadata": {},
   "outputs": [],
   "source": [
    "# Solución para C5\n",
    "def total_usage_day(df: pd.DataFrame) -> pd.Series:\n",
    "    \"\"\"Calcula el número total de usos de bicicletas por día del mes.\"\"\"\n",
    "    usage_per_day = df.groupby(df.index.date).size()\n",
    "    return usage_per_day\n",
    "\n",
    "# Uso\n",
    "usos_por_dia = total_usage_day(bicimad_instance.data)\n",
    "print(\"Número total de usos por día:\")\n",
    "print(usos_por_dia)\n"
   ]
  },
  {
   "cell_type": "code",
   "execution_count": null,
   "metadata": {},
   "outputs": [],
   "source": [
    "# Solución para C6\n",
    "def total_usage_by_date_station(df: pd.DataFrame) -> pd.DataFrame:\n",
    "    \"\"\"Calcula el total de usos por fecha y estación de desbloqueo.\"\"\"\n",
    "    usage_per_day_station = df.groupby([pd.Grouper(freq=\"1D\"), 'station_unlock']).size()\n",
    "    return usage_per_day_station\n",
    "\n",
    "# Uso\n",
    "usos_por_fecha_y_estacion = total_usage_by_date_station(bicimad_instance.data)\n",
    "print(\"Total de usos por fecha y estación de desbloqueo:\")\n",
    "print(usos_por_fecha_y_estacion)\n"
   ]
  },
  {
   "cell_type": "code",
   "execution_count": null,
   "metadata": {},
   "outputs": [],
   "source": [
    "# C7: Encontrar las estaciones de desbloqueo con el mayor número de viajes\n",
    "station_usage = bicimad_instance.data.groupby('address_unlock').size()  # Conteo de viajes por estación\n",
    "max_usage = station_usage.max()  # Encuentra el máximo número de viajes\n",
    "\n",
    "# Selecciona todas las estaciones que tienen el número máximo de viajes\n",
    "estaciones_mas_populares = set(station_usage[station_usage == max_usage].index)\n",
    "\n",
    "print(\"Estaciones de desbloqueo con el mayor número de viajes:\", estaciones_mas_populares)\n"
   ]
  },
  {
   "cell_type": "code",
   "execution_count": null,
   "metadata": {},
   "outputs": [],
   "source": [
    "# Solución para C8\n",
    "def usage_from_most_popular_station(df: pd.DataFrame) -> int:\n",
    "    \"\"\"Calcula el número total de usos de las estaciones de desbloqueo con el mayor número de viajes en el mes.\"\"\"\n",
    "    station_usage = df.groupby('address_unlock').size()\n",
    "    max_usage = station_usage.max()\n",
    "    total_usage = station_usage[station_usage == max_usage].sum()\n",
    "    return total_usage\n",
    "\n",
    "# Uso\n",
    "total_uso_estaciones_populares = usage_from_most_popular_station(bicimad_instance.data)\n",
    "print(\"Número total de usos de las estaciones más populares:\", total_uso_estaciones_populares)\n"
   ]
  },
  {
   "cell_type": "code",
   "execution_count": null,
   "metadata": {},
   "outputs": [],
   "source": []
  },
  {
   "cell_type": "code",
   "execution_count": null,
   "metadata": {},
   "outputs": [],
   "source": []
  },
  {
   "cell_type": "code",
   "execution_count": null,
   "metadata": {},
   "outputs": [],
   "source": []
  }
 ],
 "metadata": {
  "colab": {
   "provenance": [],
   "toc_visible": true
  },
  "hide_input": false,
  "kernelspec": {
   "display_name": "Python (bicimad_env)",
   "language": "python",
   "name": "bicimad_env"
  },
  "language_info": {
   "codemirror_mode": {
    "name": "ipython",
    "version": 3
   },
   "file_extension": ".py",
   "mimetype": "text/x-python",
   "name": "python",
   "nbconvert_exporter": "python",
   "pygments_lexer": "ipython3",
   "version": "3.11.4"
  },
  "nbTranslate": {
   "displayLangs": [
    "en",
    "es"
   ],
   "hotkey": "alt-t",
   "langInMainMenu": true,
   "sourceLang": "es",
   "targetLang": "en",
   "useGoogleTranslate": true
  },
  "toc": {
   "base_numbering": 1,
   "nav_menu": {},
   "number_sections": true,
   "sideBar": true,
   "skip_h1_title": false,
   "title_cell": "Table of Contents",
   "title_sidebar": "Contents",
   "toc_cell": false,
   "toc_position": {
    "height": "calc(100% - 180px)",
    "left": "10px",
    "top": "150px",
    "width": "288px"
   },
   "toc_section_display": true,
   "toc_window_display": true
  }
 },
 "nbformat": 4,
 "nbformat_minor": 4
}
